{
 "cells": [
  {
   "cell_type": "markdown",
   "metadata": {},
   "source": [
    "# Ta feng Data"
   ]
  },
  {
   "cell_type": "markdown",
   "metadata": {},
   "source": [
    "## Load all"
   ]
  },
  {
   "cell_type": "code",
   "execution_count": 1,
   "metadata": {},
   "outputs": [],
   "source": [
    "from stat_data import Stat\n",
    "import pickle\n",
    "\n",
    "root_dir = \"./data/ta_feng/\"\n",
    "filename = \"transaction.dat\"\n",
    "\n",
    "f = open(root_dir+filename,\"rb\")\n",
    "data = pickle.load(f)\n",
    "\n",
    "f = open(root_dir+\"train.pkl\",\"rb\")\n",
    "train = pickle.load(f)\n",
    "\n",
    "f = open(root_dir+\"test.pkl\",\"rb\")\n",
    "test = pickle.load(f)\n",
    "\n",
    "f = open(root_dir+\"validation.pkl\",\"rb\")\n",
    "valid = pickle.load(f)\n",
    "\n",
    "f = open(root_dir+\"negative_sample.pkl\",\"rb\")\n",
    "neg_train = pickle.load(f)\n",
    "\n",
    "s = Stat(data)\n",
    "trans = s.get_trans()\n",
    "usrset = s.get_usrset()\n",
    "itemset = s.get_itemset()"
   ]
  },
  {
   "cell_type": "code",
   "execution_count": 5,
   "metadata": {},
   "outputs": [
    {
     "data": {
      "text/plain": [
       "(1835021,\n",
       " [{20360023,\n",
       "   20392994,\n",
       "   34000338108,\n",
       "   37000323686,\n",
       "   4710530997140,\n",
       "   4712552800224,\n",
       "   4714298609031,\n",
       "   4718121002235,\n",
       "   9771015996008},\n",
       "  {20089917,\n",
       "   4710177043118,\n",
       "   4711093110342,\n",
       "   4711770012051,\n",
       "   4712297160201,\n",
       "   4712566065398,\n",
       "   4975060511222,\n",
       "   8712000900045,\n",
       "   9310022862601},\n",
       "  {4710095987402,\n",
       "   4711269680839,\n",
       "   4711883060116,\n",
       "   4712987110172,\n",
       "   4714082600411,\n",
       "   4715833517781,\n",
       "   4718480800015},\n",
       "  {20565206,\n",
       "   4710762201046,\n",
       "   4713243940991,\n",
       "   4714756832070,\n",
       "   4901872886609,\n",
       "   4902831502417,\n",
       "   8004800002624},\n",
       "  {20519490,\n",
       "   2100035002807,\n",
       "   2270073000414,\n",
       "   4710088432322,\n",
       "   4712031000541,\n",
       "   4714232210019,\n",
       "   4714725703240,\n",
       "   4714910110143,\n",
       "   4716086062028,\n",
       "   4934567511128},\n",
       "  {4710043004946,\n",
       "   4710063041204,\n",
       "   4710677006651,\n",
       "   4711629910361,\n",
       "   4714581740922,\n",
       "   4714957141988,\n",
       "   4716758000389,\n",
       "   4902431001747,\n",
       "   4978955040968,\n",
       "   8693357016354}])"
      ]
     },
     "execution_count": 5,
     "metadata": {},
     "output_type": "execute_result"
    }
   ],
   "source": [
    "list(neg_train.keys())[0], neg_train[list(neg_train.keys())[0]]"
   ]
  },
  {
   "cell_type": "code",
   "execution_count": 64,
   "metadata": {},
   "outputs": [
    {
     "name": "stdout",
     "output_type": "stream",
     "text": [
      "\n",
      "        # transactions: 61991\n",
      "        # items       : 22326\n",
      "        Ave item      : 8.6352857672888\n",
      "        # users       : 10599\n",
      "        \n"
     ]
    }
   ],
   "source": [
    "s.show()"
   ]
  },
  {
   "cell_type": "markdown",
   "metadata": {},
   "source": [
    "### Tuplize"
   ]
  },
  {
   "cell_type": "code",
   "execution_count": 79,
   "metadata": {},
   "outputs": [],
   "source": [
    "if type(neg_train) is dict:\n",
    "    neg_train = [(u, list(t)) for u, ts in neg_train.items() for t in ts]"
   ]
  },
  {
   "cell_type": "code",
   "execution_count": 75,
   "metadata": {},
   "outputs": [
    {
     "name": "stdout",
     "output_type": "stream",
     "text": [
      "319088\n"
     ]
    }
   ],
   "source": [
    "ave = 0\n",
    "for i in train:\n",
    "    ave += len(i[1])\n",
    "    \n",
    "print(ave)"
   ]
  },
  {
   "cell_type": "code",
   "execution_count": null,
   "metadata": {},
   "outputs": [],
   "source": [
    "if type(train) is dict:\n",
    "    train = [(u, list(t)) for u, ts in train.items() for t in ts]"
   ]
  },
  {
   "cell_type": "code",
   "execution_count": 31,
   "metadata": {},
   "outputs": [
    {
     "name": "stdout",
     "output_type": "stream",
     "text": [
      "The autoreload extension is already loaded. To reload it, use:\n",
      "  %reload_ext autoreload\n"
     ]
    }
   ],
   "source": [
    "%load_ext autoreload\n",
    "%autoreload 2\n",
    "\n",
    "import os\n",
    "import random\n",
    "import pickle\n",
    "import numpy as np\n",
    "import pandas as pd\n",
    "\n",
    "pd.set_option('display.max_columns', 100)\n",
    "pd.set_option('display.max_rows', 100)\n",
    "\n",
    "# for reproducibility\n",
    "seed=1234\n",
    "def seed_everything(seed=1234):\n",
    "    os.environ['PYTHONHASHSEED'] = str(seed)\n",
    "    np.random.seed(seed)\n",
    "    random.seed(seed)\n",
    "seed_everything(seed)"
   ]
  },
  {
   "cell_type": "code",
   "execution_count": 3,
   "metadata": {},
   "outputs": [],
   "source": [
    "root_dir = \"./data/ta_feng/\"\n",
    "csv_file = \"ta_feng_all_months_merged.csv\"\n",
    "\n",
    "df = pd.read_csv(root_dir+csv_file)"
   ]
  },
  {
   "cell_type": "code",
   "execution_count": 4,
   "metadata": {},
   "outputs": [
    {
     "data": {
      "text/html": [
       "<div>\n",
       "<style scoped>\n",
       "    .dataframe tbody tr th:only-of-type {\n",
       "        vertical-align: middle;\n",
       "    }\n",
       "\n",
       "    .dataframe tbody tr th {\n",
       "        vertical-align: top;\n",
       "    }\n",
       "\n",
       "    .dataframe thead th {\n",
       "        text-align: right;\n",
       "    }\n",
       "</style>\n",
       "<table border=\"1\" class=\"dataframe\">\n",
       "  <thead>\n",
       "    <tr style=\"text-align: right;\">\n",
       "      <th></th>\n",
       "      <th>TRANSACTION_DT</th>\n",
       "      <th>CUSTOMER_ID</th>\n",
       "      <th>AGE_GROUP</th>\n",
       "      <th>PIN_CODE</th>\n",
       "      <th>PRODUCT_SUBCLASS</th>\n",
       "      <th>PRODUCT_ID</th>\n",
       "      <th>AMOUNT</th>\n",
       "      <th>ASSET</th>\n",
       "      <th>SALES_PRICE</th>\n",
       "    </tr>\n",
       "  </thead>\n",
       "  <tbody>\n",
       "    <tr>\n",
       "      <td>0</td>\n",
       "      <td>11/1/2000</td>\n",
       "      <td>1104905</td>\n",
       "      <td>45-49</td>\n",
       "      <td>115</td>\n",
       "      <td>110411</td>\n",
       "      <td>4710199010372</td>\n",
       "      <td>2</td>\n",
       "      <td>24</td>\n",
       "      <td>30</td>\n",
       "    </tr>\n",
       "    <tr>\n",
       "      <td>1</td>\n",
       "      <td>11/1/2000</td>\n",
       "      <td>418683</td>\n",
       "      <td>45-49</td>\n",
       "      <td>115</td>\n",
       "      <td>120107</td>\n",
       "      <td>4710857472535</td>\n",
       "      <td>1</td>\n",
       "      <td>48</td>\n",
       "      <td>46</td>\n",
       "    </tr>\n",
       "    <tr>\n",
       "      <td>2</td>\n",
       "      <td>11/1/2000</td>\n",
       "      <td>1057331</td>\n",
       "      <td>35-39</td>\n",
       "      <td>115</td>\n",
       "      <td>100407</td>\n",
       "      <td>4710043654103</td>\n",
       "      <td>2</td>\n",
       "      <td>142</td>\n",
       "      <td>166</td>\n",
       "    </tr>\n",
       "    <tr>\n",
       "      <td>3</td>\n",
       "      <td>11/1/2000</td>\n",
       "      <td>1849332</td>\n",
       "      <td>45-49</td>\n",
       "      <td>Others</td>\n",
       "      <td>120108</td>\n",
       "      <td>4710126092129</td>\n",
       "      <td>1</td>\n",
       "      <td>32</td>\n",
       "      <td>38</td>\n",
       "    </tr>\n",
       "    <tr>\n",
       "      <td>4</td>\n",
       "      <td>11/1/2000</td>\n",
       "      <td>1981995</td>\n",
       "      <td>50-54</td>\n",
       "      <td>115</td>\n",
       "      <td>100205</td>\n",
       "      <td>4710176021445</td>\n",
       "      <td>1</td>\n",
       "      <td>14</td>\n",
       "      <td>18</td>\n",
       "    </tr>\n",
       "    <tr>\n",
       "      <td>...</td>\n",
       "      <td>...</td>\n",
       "      <td>...</td>\n",
       "      <td>...</td>\n",
       "      <td>...</td>\n",
       "      <td>...</td>\n",
       "      <td>...</td>\n",
       "      <td>...</td>\n",
       "      <td>...</td>\n",
       "      <td>...</td>\n",
       "    </tr>\n",
       "    <tr>\n",
       "      <td>817736</td>\n",
       "      <td>2/28/2001</td>\n",
       "      <td>312790</td>\n",
       "      <td>35-39</td>\n",
       "      <td>114</td>\n",
       "      <td>530501</td>\n",
       "      <td>4713317035042</td>\n",
       "      <td>2</td>\n",
       "      <td>80</td>\n",
       "      <td>118</td>\n",
       "    </tr>\n",
       "    <tr>\n",
       "      <td>817737</td>\n",
       "      <td>2/28/2001</td>\n",
       "      <td>57486</td>\n",
       "      <td>40-44</td>\n",
       "      <td>115</td>\n",
       "      <td>530209</td>\n",
       "      <td>4710731060124</td>\n",
       "      <td>1</td>\n",
       "      <td>40</td>\n",
       "      <td>55</td>\n",
       "    </tr>\n",
       "    <tr>\n",
       "      <td>817738</td>\n",
       "      <td>2/28/2001</td>\n",
       "      <td>733526</td>\n",
       "      <td>&gt;65</td>\n",
       "      <td>Unknown</td>\n",
       "      <td>510539</td>\n",
       "      <td>4716340052307</td>\n",
       "      <td>1</td>\n",
       "      <td>78</td>\n",
       "      <td>115</td>\n",
       "    </tr>\n",
       "    <tr>\n",
       "      <td>817739</td>\n",
       "      <td>2/28/2001</td>\n",
       "      <td>173704</td>\n",
       "      <td>45-49</td>\n",
       "      <td>115</td>\n",
       "      <td>520457</td>\n",
       "      <td>4714276145315</td>\n",
       "      <td>1</td>\n",
       "      <td>90</td>\n",
       "      <td>96</td>\n",
       "    </tr>\n",
       "    <tr>\n",
       "      <td>817740</td>\n",
       "      <td>2/28/2001</td>\n",
       "      <td>1719888</td>\n",
       "      <td>30-34</td>\n",
       "      <td>221</td>\n",
       "      <td>530202</td>\n",
       "      <td>4713080610231</td>\n",
       "      <td>1</td>\n",
       "      <td>158</td>\n",
       "      <td>199</td>\n",
       "    </tr>\n",
       "  </tbody>\n",
       "</table>\n",
       "<p>817741 rows × 9 columns</p>\n",
       "</div>"
      ],
      "text/plain": [
       "       TRANSACTION_DT  CUSTOMER_ID AGE_GROUP PIN_CODE  PRODUCT_SUBCLASS  \\\n",
       "0           11/1/2000      1104905     45-49      115            110411   \n",
       "1           11/1/2000       418683     45-49      115            120107   \n",
       "2           11/1/2000      1057331     35-39      115            100407   \n",
       "3           11/1/2000      1849332     45-49   Others            120108   \n",
       "4           11/1/2000      1981995     50-54      115            100205   \n",
       "...               ...          ...       ...      ...               ...   \n",
       "817736      2/28/2001       312790     35-39      114            530501   \n",
       "817737      2/28/2001        57486     40-44      115            530209   \n",
       "817738      2/28/2001       733526       >65  Unknown            510539   \n",
       "817739      2/28/2001       173704     45-49      115            520457   \n",
       "817740      2/28/2001      1719888     30-34      221            530202   \n",
       "\n",
       "           PRODUCT_ID  AMOUNT  ASSET  SALES_PRICE  \n",
       "0       4710199010372       2     24           30  \n",
       "1       4710857472535       1     48           46  \n",
       "2       4710043654103       2    142          166  \n",
       "3       4710126092129       1     32           38  \n",
       "4       4710176021445       1     14           18  \n",
       "...               ...     ...    ...          ...  \n",
       "817736  4713317035042       2     80          118  \n",
       "817737  4710731060124       1     40           55  \n",
       "817738  4716340052307       1     78          115  \n",
       "817739  4714276145315       1     90           96  \n",
       "817740  4713080610231       1    158          199  \n",
       "\n",
       "[817741 rows x 9 columns]"
      ]
     },
     "execution_count": 4,
     "metadata": {},
     "output_type": "execute_result"
    }
   ],
   "source": [
    "df"
   ]
  },
  {
   "cell_type": "code",
   "execution_count": 5,
   "metadata": {},
   "outputs": [],
   "source": [
    "customer_id = set(df[\"CUSTOMER_ID\"])"
   ]
  },
  {
   "cell_type": "markdown",
   "metadata": {},
   "source": [
    "## Change Data structure\n",
    "Data structure is \\\n",
    "[(customer id, transaction),...]"
   ]
  },
  {
   "cell_type": "code",
   "execution_count": 6,
   "metadata": {},
   "outputs": [
    {
     "name": "stderr",
     "output_type": "stream",
     "text": [
      "  0%|          | 43/32266 [00:00<01:15, 426.72it/s]"
     ]
    },
    {
     "name": "stdout",
     "output_type": "stream",
     "text": [
      "CPU times: user 0 ns, sys: 1 µs, total: 1 µs\n",
      "Wall time: 3.1 µs\n"
     ]
    },
    {
     "name": "stderr",
     "output_type": "stream",
     "text": [
      "100%|██████████| 32266/32266 [01:12<00:00, 446.36it/s]\n"
     ]
    }
   ],
   "source": [
    "%time\n",
    "import tqdm\n",
    "\n",
    "data = []\n",
    "trans = []  # for removing stop word items\n",
    "n_trans = 0 # before removing fewer trans and item \n",
    "cnt = 0\n",
    "\n",
    "for i in tqdm.tqdm(customer_id):\n",
    "    customer = df[df[\"CUSTOMER_ID\"] == i]\n",
    "    trans_date = list(set(customer[\"TRANSACTION_DT\"]))\n",
    "    n_trans += len(trans_date)\n",
    "    # print(\"custormer ID    :\", i, \"\\n\" \\\n",
    "    #       \"transaction date:\", trans_date, len(trans_date))\n",
    "\n",
    "    for d in trans_date:\n",
    "        product = customer[customer[\"TRANSACTION_DT\"] == d]\n",
    "        trans.append(list(product[\"PRODUCT_ID\"]))\n",
    "        # data.append((i, set(product[\"PRODUCT_ID\"])))\n",
    "        data.append([i, set(product[\"PRODUCT_ID\"])])"
   ]
  },
  {
   "cell_type": "markdown",
   "metadata": {},
   "source": [
    "## Transaction from 0 to 3"
   ]
  },
  {
   "cell_type": "code",
   "execution_count": 7,
   "metadata": {},
   "outputs": [
    {
     "data": {
      "text/plain": [
       "[[1441802, {4714981010038}],\n",
       " [1441802, {4710549000039, 4712048022017}],\n",
       " [1703948,\n",
       "  {20246037,\n",
       "   20341992,\n",
       "   2250271000683,\n",
       "   4710049003608,\n",
       "   4710063021091,\n",
       "   4710088434500,\n",
       "   4710094014765,\n",
       "   4710094020179,\n",
       "   4710114606048,\n",
       "   4710126092730,\n",
       "   4710162000126,\n",
       "   4710207010226,\n",
       "   4710221682782,\n",
       "   4710357302905,\n",
       "   4710363604000,\n",
       "   4710363732000,\n",
       "   4710466103080,\n",
       "   4710570002606,\n",
       "   4710626622857,\n",
       "   4710908111116,\n",
       "   4711045228101,\n",
       "   4711713030531,\n",
       "   4714499363053,\n",
       "   4714957234147,\n",
       "   4901301036056,\n",
       "   4901301043979,\n",
       "   4902430492416,\n",
       "   4902430493024,\n",
       "   4902511003418,\n",
       "   4973271967807,\n",
       "   8999118200100}]]"
      ]
     },
     "execution_count": 7,
     "metadata": {},
     "output_type": "execute_result"
    }
   ],
   "source": [
    "data[0:3]"
   ]
  },
  {
   "cell_type": "markdown",
   "metadata": {},
   "source": [
    "## Statics class for data stat"
   ]
  },
  {
   "cell_type": "code",
   "execution_count": 9,
   "metadata": {},
   "outputs": [],
   "source": [
    "from stat_data import Stat\n",
    "s = Stat(data)"
   ]
  },
  {
   "cell_type": "markdown",
   "metadata": {},
   "source": [
    "### # transactions"
   ]
  },
  {
   "cell_type": "code",
   "execution_count": 10,
   "metadata": {},
   "outputs": [
    {
     "data": {
      "text/plain": [
       "119578"
      ]
     },
     "execution_count": 10,
     "metadata": {},
     "output_type": "execute_result"
    }
   ],
   "source": [
    "s.n_data()"
   ]
  },
  {
   "cell_type": "markdown",
   "metadata": {},
   "source": [
    "### # items"
   ]
  },
  {
   "cell_type": "code",
   "execution_count": 11,
   "metadata": {},
   "outputs": [
    {
     "data": {
      "text/plain": [
       "23812"
      ]
     },
     "execution_count": 11,
     "metadata": {},
     "output_type": "execute_result"
    }
   ],
   "source": [
    "itemset = s.get_itemset()\n",
    "s.n_item()"
   ]
  },
  {
   "cell_type": "markdown",
   "metadata": {},
   "source": [
    "### # users"
   ]
  },
  {
   "cell_type": "code",
   "execution_count": 12,
   "metadata": {},
   "outputs": [
    {
     "data": {
      "text/plain": [
       "32266"
      ]
     },
     "execution_count": 12,
     "metadata": {},
     "output_type": "execute_result"
    }
   ],
   "source": [
    "s.n_usr()"
   ]
  },
  {
   "cell_type": "markdown",
   "metadata": {},
   "source": [
    "### Average # item in a transaction"
   ]
  },
  {
   "cell_type": "code",
   "execution_count": 13,
   "metadata": {},
   "outputs": [
    {
     "data": {
      "text/plain": [
       "6.8385572596966"
      ]
     },
     "execution_count": 13,
     "metadata": {},
     "output_type": "execute_result"
    }
   ],
   "source": [
    "s.a_item()"
   ]
  },
  {
   "cell_type": "markdown",
   "metadata": {},
   "source": [
    "## Preprocess"
   ]
  },
  {
   "cell_type": "markdown",
   "metadata": {},
   "source": [
    "### 1. Remove stop word items"
   ]
  },
  {
   "cell_type": "markdown",
   "metadata": {},
   "source": [
    "#### Count items"
   ]
  },
  {
   "cell_type": "code",
   "execution_count": 14,
   "metadata": {},
   "outputs": [],
   "source": [
    "item_dct = {item : 0 for item in itemset}\n",
    "for t in trans:\n",
    "    for item in t:\n",
    "        item_dct[item] += 1"
   ]
  },
  {
   "cell_type": "markdown",
   "metadata": {},
   "source": [
    "#### Threshold"
   ]
  },
  {
   "cell_type": "code",
   "execution_count": 15,
   "metadata": {},
   "outputs": [
    {
     "data": {
      "text/plain": [
       "5978"
      ]
     },
     "execution_count": 15,
     "metadata": {},
     "output_type": "execute_result"
    }
   ],
   "source": [
    "th = int(0.05*len(data))\n",
    "th"
   ]
  },
  {
   "cell_type": "code",
   "execution_count": 16,
   "metadata": {},
   "outputs": [
    {
     "name": "stdout",
     "output_type": "stream",
     "text": [
      "The number of removed items: 2 \n",
      "Removed items \n",
      " {4714981010038, 4711271000014}\n"
     ]
    }
   ],
   "source": [
    "removed_items = {item for item, cnt in item_dct.items() if cnt>th}\n",
    "print(\"The number of removed items:\", len(removed_items), \\\n",
    "      \"\\nRemoved items \\n\", removed_items)"
   ]
  },
  {
   "cell_type": "markdown",
   "metadata": {},
   "source": [
    "#### Remove stop word item from itemset"
   ]
  },
  {
   "cell_type": "code",
   "execution_count": 17,
   "metadata": {},
   "outputs": [
    {
     "name": "stdout",
     "output_type": "stream",
     "text": [
      "Before remove: 23812\n",
      "After remove : 23810\n"
     ]
    }
   ],
   "source": [
    "print(\"Before remove:\", len(itemset))\n",
    "itemset -= removed_items\n",
    "print(\"After remove :\", len(itemset))"
   ]
  },
  {
   "cell_type": "markdown",
   "metadata": {},
   "source": [
    "#### Remove stop word item from transaction"
   ]
  },
  {
   "cell_type": "code",
   "execution_count": 18,
   "metadata": {},
   "outputs": [],
   "source": [
    "for i in data:\n",
    "    i[1] -= removed_items"
   ]
  },
  {
   "cell_type": "markdown",
   "metadata": {},
   "source": [
    "### 2. Remove transactions which include less than 3 items"
   ]
  },
  {
   "cell_type": "code",
   "execution_count": 19,
   "metadata": {},
   "outputs": [
    {
     "name": "stdout",
     "output_type": "stream",
     "text": [
      "\n",
      "Before\n",
      "# Data : 119578\n",
      "# Items: 23810\n",
      "\n",
      "\n",
      "After\n",
      "# Data : 85277\n",
      "# Items: 23598\n",
      "\n"
     ]
    }
   ],
   "source": [
    "print(f\"\"\"\n",
    "Before\n",
    "# Data : {len(data)}\n",
    "# Items: {len(itemset)}\n",
    "\"\"\")\n",
    "\n",
    "data = [(i[0], i[1]) for i in data if len(i[1]) > 2]\n",
    "itemset = set()\n",
    "for i in data:\n",
    "    itemset |= i[1]\n",
    "\n",
    "print(f\"\"\"\n",
    "After\n",
    "# Data : {len(data)}\n",
    "# Items: {len(itemset)}\n",
    "\"\"\")"
   ]
  },
  {
   "cell_type": "markdown",
   "metadata": {},
   "source": [
    "#### Make sure if items were removed"
   ]
  },
  {
   "cell_type": "code",
   "execution_count": 20,
   "metadata": {},
   "outputs": [
    {
     "name": "stdout",
     "output_type": "stream",
     "text": [
      "23598 23598\n"
     ]
    }
   ],
   "source": [
    "tmp = set()\n",
    "for i in data:\n",
    "    tmp |= i[1]\n",
    "\n",
    "print(len(tmp), len(itemset))\n",
    "assert len(tmp)==len(itemset)\n",
    "del tmp"
   ]
  },
  {
   "cell_type": "markdown",
   "metadata": {},
   "source": [
    "## 3. Remove users whose transactions are fewer than 3"
   ]
  },
  {
   "cell_type": "markdown",
   "metadata": {},
   "source": [
    "#### Count # transactions per user"
   ]
  },
  {
   "cell_type": "code",
   "execution_count": 21,
   "metadata": {},
   "outputs": [],
   "source": [
    "ucnt = {d[0] : 0 for d in data}\n",
    "\n",
    "for i in data:\n",
    "    ucnt[i[0]] += 1"
   ]
  },
  {
   "cell_type": "markdown",
   "metadata": {},
   "source": [
    "#### Remove users"
   ]
  },
  {
   "cell_type": "code",
   "execution_count": 22,
   "metadata": {},
   "outputs": [],
   "source": [
    "data = [(d[0], d[1]) for d in data if ucnt[d[0]]>2]"
   ]
  },
  {
   "cell_type": "markdown",
   "metadata": {},
   "source": [
    "### Check Stat"
   ]
  },
  {
   "cell_type": "code",
   "execution_count": 23,
   "metadata": {},
   "outputs": [
    {
     "name": "stdout",
     "output_type": "stream",
     "text": [
      "\n",
      "        # transactions: 61991\n",
      "        # items       : 22326\n",
      "        Ave item      : 8.6352857672888\n",
      "        # users       : 10599\n",
      "        \n"
     ]
    }
   ],
   "source": [
    "s = Stat(data)\n",
    "s.show()"
   ]
  },
  {
   "cell_type": "markdown",
   "metadata": {},
   "source": [
    "## Convert list to tuple"
   ]
  },
  {
   "cell_type": "code",
   "execution_count": 24,
   "metadata": {},
   "outputs": [],
   "source": [
    "data = [(i[0], i[1]) for i in data]"
   ]
  },
  {
   "cell_type": "markdown",
   "metadata": {},
   "source": [
    "## Save dataset "
   ]
  },
  {
   "cell_type": "code",
   "execution_count": 25,
   "metadata": {},
   "outputs": [],
   "source": [
    "import pickle\n",
    "root_dir = \"./data/ta_feng/\"\n",
    "filename = \"transaction.dat\"\n",
    "\n",
    "filehandler = open(root_dir+filename, \"wb\") \n",
    "pickle.dump(data, filehandler)"
   ]
  },
  {
   "cell_type": "markdown",
   "metadata": {},
   "source": [
    "## Load dataset from pickle"
   ]
  },
  {
   "cell_type": "code",
   "execution_count": 4,
   "metadata": {},
   "outputs": [],
   "source": [
    "import pickle\n",
    "root_dir = \"./data/ta_feng/\"\n",
    "filename = \"transaction.dat\"\n",
    "\n",
    "f = open(root_dir+filename,\"rb\")\n",
    "data = pickle.load(f)"
   ]
  },
  {
   "cell_type": "code",
   "execution_count": 5,
   "metadata": {},
   "outputs": [],
   "source": [
    "s = Stat(data)\n",
    "trans = s.get_trans()\n",
    "usrset = s.get_usrset()\n",
    "itemset = s.get_itemset()"
   ]
  },
  {
   "cell_type": "markdown",
   "metadata": {},
   "source": [
    "## Make triple dataset for <br> BASKET-SENSITIVE FACTORIZATION MACHINE(BFM)"
   ]
  },
  {
   "cell_type": "markdown",
   "metadata": {},
   "source": [
    "### Split dataset for train, test and validation based on user\n",
    "Ratio is \\\n",
    "train : test : valid = 6 : 2 : 2"
   ]
  },
  {
   "cell_type": "code",
   "execution_count": 6,
   "metadata": {},
   "outputs": [],
   "source": [
    "# dataset ratio\n",
    "r_train = 0.6\n",
    "r_test = 0.2\n",
    "r_valid = 0.2"
   ]
  },
  {
   "cell_type": "markdown",
   "metadata": {},
   "source": [
    "最初にuserがkeyでtransactionのlistがvalueの辞書型を作ってsplitする．\\\n",
    "(速度的に遅いかもしれない，データセットが大きくなったら遅くなるかも...)"
   ]
  },
  {
   "cell_type": "markdown",
   "metadata": {},
   "source": [
    "#### Itemset per user(customer)\n",
    "`usr_dct`はkeyがuserでvalueがそのuserが購入したitemの集合が入っている． \\\n",
    "だから，`itemset - usr_dct[usr]`でusrが購入していないアイテム集合を取得できる．これをNegative sampleを作るときに利用する．"
   ]
  },
  {
   "cell_type": "code",
   "execution_count": 7,
   "metadata": {},
   "outputs": [
    {
     "name": "stdout",
     "output_type": "stream",
     "text": [
      "10599\n"
     ]
    }
   ],
   "source": [
    "import copy\n",
    "\n",
    "usr_dct = {}\n",
    "tmp = 0\n",
    "for i in data:\n",
    "    if not i[0] in usr_dct.keys():\n",
    "         # idk why but if I don't use deepcopy, set in data is changed\n",
    "        usr_dct[i[0]] = copy.deepcopy(i[1])\n",
    "    else:\n",
    "        usr_dct[i[0]] |= i[1]\n",
    "\n",
    "n_usr = len(usr_dct.keys())\n",
    "print(n_usr)"
   ]
  },
  {
   "cell_type": "code",
   "execution_count": 8,
   "metadata": {},
   "outputs": [],
   "source": [
    "udata = {usr : [] for usr in usr_dct.keys()}\n",
    "\n",
    "for d in data:\n",
    "    udata[d[0]].append(d[1])"
   ]
  },
  {
   "cell_type": "markdown",
   "metadata": {},
   "source": [
    "Itemが2以下のtransactionがないかcheck"
   ]
  },
  {
   "cell_type": "code",
   "execution_count": 9,
   "metadata": {},
   "outputs": [],
   "source": [
    "cnt = 0\n",
    "for u, t in udata.items():\n",
    "    if len(t) < 3: \n",
    "        cnt+=1\n",
    "assert cnt==0, \"Invalid transaction\""
   ]
  },
  {
   "cell_type": "markdown",
   "metadata": {},
   "source": [
    "### Split based on user"
   ]
  },
  {
   "cell_type": "code",
   "execution_count": 35,
   "metadata": {},
   "outputs": [],
   "source": [
    "import copy\n",
    "import math\n",
    "\n",
    "train = {usr:[] for usr in udata.keys()}\n",
    "test = copy.deepcopy(train)\n",
    "valid = copy.deepcopy(train)\n",
    "\n",
    "for u,t in udata.items():\n",
    "    l_t = len(t)\n",
    "    if l_t == 3:\n",
    "        train[u] = [copy.deepcopy(t[0])]\n",
    "        test[u] = [copy.deepcopy(t[1])]\n",
    "        valid[u] = [copy.deepcopy(t[2])]\n",
    "    else:\n",
    "        l_train = math.ceil(l_t*r_train)\n",
    "\n",
    "        train[u] = copy.deepcopy(t[:l_train])\n",
    "\n",
    "        l_test = math.ceil((l_t-l_train)*0.5)\n",
    "        test[u] = copy.deepcopy(t[l_train:l_train+l_test])\n",
    "\n",
    "        valid[u] = copy.deepcopy(t[l_train+l_test:])"
   ]
  },
  {
   "cell_type": "markdown",
   "metadata": {},
   "source": [
    "calculate sum of data"
   ]
  },
  {
   "cell_type": "code",
   "execution_count": 36,
   "metadata": {},
   "outputs": [],
   "source": [
    "cnt = 0\n",
    "\n",
    "for tr, te, va in zip(train.values(), test.values(), valid.values()):\n",
    "    cnt += (len(tr) + len(te) + len(va))\n",
    "\n",
    "assert cnt==len(data), f\"Invalid split, before split: {len(data)}, after split: {cnt}\""
   ]
  },
  {
   "cell_type": "markdown",
   "metadata": {},
   "source": [
    "### Calculate pmi\n",
    "We only need pmi for train dataset, so we calculated train dataset pmi with original dataset(valiable is `data`)."
   ]
  },
  {
   "cell_type": "code",
   "execution_count": null,
   "metadata": {},
   "outputs": [],
   "source": []
  },
  {
   "cell_type": "markdown",
   "metadata": {},
   "source": [
    "### Make negative sample\n",
    "Negative sampleはPositive sampleをベースに作られている．\\\n",
    "1つのPositive sampleにつき2つ作る．つまりNegative sampleはPositive sampleの数の2倍になる．\\\n",
    "Negative sampleはベースとなっているアイテム数(|B|+v)と同じになっている．\\\n",
    "Negative sampleのアイテムはそのUserが購入していないアイテムで構成される．"
   ]
  },
  {
   "cell_type": "code",
   "execution_count": 37,
   "metadata": {},
   "outputs": [
    {
     "name": "stderr",
     "output_type": "stream",
     "text": [
      "100%|██████████| 10599/10599 [00:29<00:00, 364.32it/s]\n"
     ]
    }
   ],
   "source": [
    "import tqdm\n",
    "\n",
    "neg_train = {usr:[] for usr in udata.keys()}\n",
    "for usr, trans in tqdm.tqdm(train.items()):\n",
    "    for t in trans:\n",
    "        # item length\n",
    "        l_item = len(t)\n",
    "\n",
    "        # negative itemset\n",
    "        neg_itemset = itemset - usr_dct[usr]\n",
    "        neg_data = random.sample(neg_itemset, k=l_item*2)\n",
    "        neg_train[usr].append(set(neg_data[:l_item]))\n",
    "        neg_train[usr].append(set(neg_data[l_item:]))"
   ]
  },
  {
   "cell_type": "code",
   "execution_count": 38,
   "metadata": {},
   "outputs": [],
   "source": [
    "l_train = 0\n",
    "for trans in train.values():\n",
    "    l_train += len(trans)\n",
    "\n",
    "l_neg = 0\n",
    "for trans in neg_train.values():\n",
    "    l_neg += len(trans)\n",
    "\n",
    "assert 2*l_train==l_neg, \\\n",
    "       f\"\"\"The number of negative sample should be 2*train.\n",
    "                But got train sample:{l_train}, negative sample:{l_neg}\"\"\""
   ]
  },
  {
   "cell_type": "markdown",
   "metadata": {},
   "source": [
    "### Save train, test, validation and negative sample dataset"
   ]
  },
  {
   "cell_type": "code",
   "execution_count": 39,
   "metadata": {},
   "outputs": [],
   "source": [
    "filehandler = open(root_dir+\"train.pkl\", \"wb\") \n",
    "pickle.dump(train, filehandler)\n",
    "\n",
    "filehandler = open(root_dir+\"test.pkl\", \"wb\") \n",
    "pickle.dump(test, filehandler)\n",
    "\n",
    "filehandler = open(root_dir+\"validation.pkl\", \"wb\") \n",
    "pickle.dump(valid, filehandler)\n",
    "\n",
    "filehandler = open(root_dir+\"negative_sample.pkl\", \"wb\") \n",
    "pickle.dump(neg_train, filehandler)"
   ]
  },
  {
   "cell_type": "markdown",
   "metadata": {},
   "source": [
    "### Load train, test, validation and negative sample"
   ]
  },
  {
   "cell_type": "code",
   "execution_count": 55,
   "metadata": {},
   "outputs": [],
   "source": [
    "import pickle\n",
    "root_dir = \"./data/ta_feng/\"\n",
    "\n",
    "f = open(root_dir+\"train.pkl\",\"rb\")\n",
    "train = pickle.load(f)\n",
    "\n",
    "f = open(root_dir+\"test.pkl\",\"rb\")\n",
    "test = pickle.load(f)\n",
    "\n",
    "f = open(root_dir+\"validation.pkl\",\"rb\")\n",
    "valid = pickle.load(f)\n",
    "\n",
    "f = open(root_dir+\"negative_sample.pkl\",\"rb\")\n",
    "neg_train = pickle.load(f)"
   ]
  },
  {
   "cell_type": "markdown",
   "metadata": {},
   "source": [
    "## Convert data for model input using pytorch"
   ]
  },
  {
   "cell_type": "code",
   "execution_count": 32,
   "metadata": {},
   "outputs": [],
   "source": [
    "import torch\n",
    "import torch.nn.functional as F"
   ]
  },
  {
   "cell_type": "markdown",
   "metadata": {},
   "source": [
    "Convert Itemset"
   ]
  },
  {
   "cell_type": "code",
   "execution_count": 33,
   "metadata": {},
   "outputs": [
    {
     "name": "stdout",
     "output_type": "stream",
     "text": [
      "0\n"
     ]
    }
   ],
   "source": [
    "itemset = list(itemset)\n",
    "itemset.sort()\n",
    "print(itemset.index(itemset[0]))\n",
    "\n",
    "o_item = F.one_hot(torch.arange(0, len(itemset)))"
   ]
  },
  {
   "cell_type": "markdown",
   "metadata": {},
   "source": [
    "Convert User"
   ]
  },
  {
   "cell_type": "code",
   "execution_count": 34,
   "metadata": {},
   "outputs": [
    {
     "name": "stdout",
     "output_type": "stream",
     "text": [
      "0\n"
     ]
    }
   ],
   "source": [
    "usrset = list(usrset)\n",
    "usrset.sort()\n",
    "print(usrset.index(usrset[0]))\n",
    "\n",
    "o_usr = F.one_hot(torch.arange(0, len(usrset)))"
   ]
  },
  {
   "cell_type": "code",
   "execution_count": 8,
   "metadata": {},
   "outputs": [
    {
     "data": {
      "text/plain": [
       "tensor([[1, 0, 0,  ..., 0, 0, 0],\n",
       "        [0, 1, 0,  ..., 0, 0, 0],\n",
       "        [0, 0, 1,  ..., 0, 0, 0],\n",
       "        ...,\n",
       "        [0, 0, 0,  ..., 1, 0, 0],\n",
       "        [0, 0, 0,  ..., 0, 1, 0],\n",
       "        [0, 0, 0,  ..., 0, 0, 1]])"
      ]
     },
     "execution_count": 8,
     "metadata": {},
     "output_type": "execute_result"
    }
   ],
   "source": [
    "o_item"
   ]
  },
  {
   "cell_type": "code",
   "execution_count": 9,
   "metadata": {},
   "outputs": [
    {
     "data": {
      "text/plain": [
       "tensor([[1, 0, 0,  ..., 0, 0, 0],\n",
       "        [0, 1, 0,  ..., 0, 0, 0],\n",
       "        [0, 0, 1,  ..., 0, 0, 0],\n",
       "        ...,\n",
       "        [0, 0, 0,  ..., 1, 0, 0],\n",
       "        [0, 0, 0,  ..., 0, 1, 0],\n",
       "        [0, 0, 0,  ..., 0, 0, 1]])"
      ]
     },
     "execution_count": 9,
     "metadata": {},
     "output_type": "execute_result"
    }
   ],
   "source": [
    "o_usr"
   ]
  },
  {
   "cell_type": "code",
   "execution_count": 13,
   "metadata": {},
   "outputs": [
    {
     "name": "stdout",
     "output_type": "stream",
     "text": [
      "Tensor : tensor([0, 0, 0,  ..., 0, 0, 0])\n",
      "Index  : tensor([[8526]])\n"
     ]
    }
   ],
   "source": [
    "a = o_item[itemset.index(train[0][1][0])]\n",
    "print(\"Tensor :\", a)\n",
    "print(\"Index  :\", (a == 1).nonzero())"
   ]
  },
  {
   "cell_type": "markdown",
   "metadata": {},
   "source": [
    "### Convert train data structure to input format\n",
    "\n",
    "#### <span style=\"color: red; \">Too much memory is used</span><pre>So, I have to use yeild to make generator."
   ]
  },
  {
   "cell_type": "code",
   "execution_count": 14,
   "metadata": {},
   "outputs": [
    {
     "data": {
      "text/plain": [
       "(37470, list)"
      ]
     },
     "execution_count": 14,
     "metadata": {},
     "output_type": "execute_result"
    }
   ],
   "source": [
    "len(train), type(train)"
   ]
  },
  {
   "cell_type": "code",
   "execution_count": 15,
   "metadata": {
    "collapsed": true,
    "jupyter": {
     "outputs_hidden": true
    }
   },
   "outputs": [
    {
     "data": {
      "text/plain": [
       "[(1931600, [4718429100060, 4710058277021, 4710697581015]),\n",
       " (415484, [4710008111153, 4710549000756, 4710105020358]),\n",
       " (1705348,\n",
       "  [4718433613952,\n",
       "   4711863180070,\n",
       "   4710291112172,\n",
       "   4712076005204,\n",
       "   4712076005341,\n",
       "   4718433613150]),\n",
       " (540711,\n",
       "  [4710247006562,\n",
       "   4710060000099,\n",
       "   4710110815208,\n",
       "   4710008242123,\n",
       "   4710114362029,\n",
       "   4712031000015,\n",
       "   4710467221523,\n",
       "   4710114105046,\n",
       "   4710467551224,\n",
       "   4711763001017,\n",
       "   4711985005626,\n",
       "   7707950311516,\n",
       "   4710114307037,\n",
       "   4710046021407]),\n",
       " (1317954, [4719090790017, 4710088410610, 4710088414038])]"
      ]
     },
     "execution_count": 15,
     "metadata": {},
     "output_type": "execute_result"
    }
   ],
   "source": [
    "random.Random(seed).sample(train, len(train))[:5]"
   ]
  },
  {
   "cell_type": "code",
   "execution_count": 61,
   "metadata": {},
   "outputs": [],
   "source": [
    "def convert(train, usrset, itemset, o_usr, o_item):\n",
    "    train_input = []\n",
    "\n",
    "    for d in train:\n",
    "        usr = d[0]\n",
    "        trans = d[1]\n",
    "        basket = 0\n",
    "\n",
    "        usr = o_usr[usrset.index(usr)]\n",
    "\n",
    "        for item in trans:\n",
    "            basket += o_item[itemset.index(item)]\n",
    "\n",
    "        # print(trans)\n",
    "        # print(\"items:\", len(trans), basket.sum())\n",
    "        # print(\"general basket\\n\", (basket==1).nonzero())\n",
    "        for item in trans:\n",
    "            # print(item)\n",
    "            target = o_item[itemset.index(item)]\n",
    "            t = basket-target\n",
    "            # print(\"target \\n\", (target==1).nonzero())\n",
    "            # print(\"t nonzero\\n\", (t==1).nonzero())\n",
    "            t = torch.cat((target, t))\n",
    "            # print(target.sum(), t[:target.shape[0]].sum(), t[target.shape[0]:].sum())\n",
    "            t = torch.cat((usr, t))\n",
    "            # train_input.append(t)\n",
    "            yield t"
   ]
  },
  {
   "cell_type": "code",
   "execution_count": 26,
   "metadata": {
    "collapsed": true,
    "jupyter": {
     "outputs_hidden": true
    }
   },
   "outputs": [
    {
     "name": "stdout",
     "output_type": "stream",
     "text": [
      "tensor([0, 0, 0,  ..., 0, 0, 0]) tensor([[ 7620],\n",
      "        [19125],\n",
      "        [37412],\n",
      "        [41429],\n",
      "        [41433],\n",
      "        [46964],\n",
      "        [47304],\n",
      "        [49077],\n",
      "        [49467],\n",
      "        [49478]])\n",
      "tensor([0, 0, 0,  ..., 0, 0, 0]) tensor([[ 7620],\n",
      "        [15086],\n",
      "        [41429],\n",
      "        [41433],\n",
      "        [41451],\n",
      "        [46964],\n",
      "        [47304],\n",
      "        [49077],\n",
      "        [49467],\n",
      "        [49478]])\n",
      "tensor([0, 0, 0,  ..., 0, 0, 0]) tensor([[ 7620],\n",
      "        [27152],\n",
      "        [37412],\n",
      "        [41429],\n",
      "        [41433],\n",
      "        [41451],\n",
      "        [46964],\n",
      "        [47304],\n",
      "        [49077],\n",
      "        [49467]])\n",
      "tensor([0, 0, 0,  ..., 0, 0, 0]) tensor([[ 7620],\n",
      "        [19107],\n",
      "        [37412],\n",
      "        [41429],\n",
      "        [41451],\n",
      "        [46964],\n",
      "        [47304],\n",
      "        [49077],\n",
      "        [49467],\n",
      "        [49478]])\n"
     ]
    }
   ],
   "source": [
    "tmp = convert(train, usrset, itemset, o_usr, o_item)\n",
    "\n",
    "t = next(tmp)\n",
    "print(t, (t==1).nonzero())\n",
    "t = next(tmp)\n",
    "print(t, (t==1).nonzero())\n",
    "t = next(tmp)\n",
    "print(t, (t==1).nonzero())\n",
    "t = next(tmp)\n",
    "print(t, (t==1).nonzero())\n"
   ]
  },
  {
   "cell_type": "code",
   "execution_count": 63,
   "metadata": {},
   "outputs": [
    {
     "name": "stdout",
     "output_type": "stream",
     "text": [
      "0\n",
      "0\n",
      "319088\n",
      "CPU times: user 1min 49s, sys: 2.24 s, total: 1min 51s\n",
      "Wall time: 1min 49s\n"
     ]
    },
    {
     "data": {
      "text/plain": [
       "'\\n    print(d)\\n    print(\"Index  :\", (d == 1).nonzero())\\n    cnt += 1\\n    if cnt==4:\\n        break\\n'"
      ]
     },
     "execution_count": 63,
     "metadata": {},
     "output_type": "execute_result"
    }
   ],
   "source": [
    "%%time\n",
    "\n",
    "import torch\n",
    "import torch.nn.functional as F\n",
    "\n",
    "def usr2vec(usrset):\n",
    "    usrset = list(usrset)\n",
    "    usrset.sort()\n",
    "    o_usr = F.one_hot(torch.arange(0, len(usrset)))\n",
    "    \n",
    "    return usrset, o_usr\n",
    "\n",
    "def item2vec(itemset):\n",
    "    itemset = list(itemset)\n",
    "    itemset.sort()\n",
    "    o_item = F.one_hot(torch.arange(0, len(itemset)))\n",
    "    \n",
    "    return itemset, o_item\n",
    "\n",
    "if type(train) is dict:\n",
    "    train = [(u, list(t)) for u, ts in train.items() for t in ts]\n",
    "    \n",
    "usrset, o_usr = usr2vec(usrset)\n",
    "itemset, o_item = item2vec(itemset)\n",
    "ds = convert(train, usrset, itemset, o_usr, o_item)\n",
    "\n",
    "cnt = 0\n",
    "for d in ds:\n",
    "    cnt += 1\n",
    "\n",
    "print(cnt)\n",
    "\"\"\"\n",
    "    print(d)\n",
    "    print(\"Index  :\", (d == 1).nonzero())\n",
    "    cnt += 1\n",
    "    if cnt==4:\n",
    "        break\n",
    "\"\"\""
   ]
  },
  {
   "cell_type": "markdown",
   "metadata": {},
   "source": [
    "319088\n",
    "CPU times: user 1min 49s, sys: 2.24 s, total: 1min 51s\n",
    "Wall time: 1min 49s"
   ]
  },
  {
   "cell_type": "markdown",
   "metadata": {},
   "source": [
    "---\n",
    "---\n",
    "---\n",
    "---"
   ]
  },
  {
   "cell_type": "markdown",
   "metadata": {},
   "source": [
    "Preprocessing when store data"
   ]
  },
  {
   "cell_type": "code",
   "execution_count": 6,
   "metadata": {},
   "outputs": [
    {
     "name": "stdout",
     "output_type": "stream",
     "text": [
      "CPU times: user 0 ns, sys: 1 µs, total: 1 µs\n",
      "Wall time: 3.1 µs\n"
     ]
    }
   ],
   "source": [
    "%time\n",
    "data = []\n",
    "trans = []  # for removing stop word items\n",
    "n_trans = 0 # before removing fewer trans and item \n",
    "cnt = 0\n",
    "\n",
    "for i in customer_id:\n",
    "    customer = df[df[\"CUSTOMER_ID\"] == i]\n",
    "    trans_date = list(set(customer[\"TRANSACTION_DT\"]))\n",
    "    n_trans += len(trans_date)\n",
    "    # print(\"custormer ID    :\", i, \"\\n\" \\\n",
    "    #       \"transaction date:\", trans_date, len(trans_date))\n",
    "\n",
    "    # Remove users whose transactions are fewer than 3.\n",
    "    if len(trans_date) < 4:\n",
    "        cnt += 1\n",
    "        continue\n",
    "\n",
    "    for d in trans_date:\n",
    "        product = customer[customer[\"TRANSACTION_DT\"] == d]\n",
    "        \n",
    "        # Store only transactions which include more than 2 items.\n",
    "        if len(set(product[\"PRODUCT_ID\"])) > 2:\n",
    "            trans.append(list(product[\"PRODUCT_ID\"]))\n",
    "            # data.append((i, set(product[\"PRODUCT_ID\"])))\n",
    "            data.append([i, set(product[\"PRODUCT_ID\"])])\n",
    "        else:\n",
    "            cnt += 1"
   ]
  },
  {
   "cell_type": "markdown",
   "metadata": {},
   "source": [
    "## split data using sklearn func (not based on user)"
   ]
  },
  {
   "cell_type": "code",
   "execution_count": 53,
   "metadata": {},
   "outputs": [],
   "source": [
    "from sklearn.model_selection import train_test_split\n",
    "from sklearn.utils import shuffle\n",
    "seed=1234\n",
    "\n",
    "# Shuffle data\n",
    "data = shuffle(data, random_state=seed)\n",
    "\n",
    "# Split train, test and validation\n",
    "train, test = train_test_split(data, test_size=0.4, random_state=seed)\n",
    "test, valid = train_test_split(test, test_size=0.5, random_state=seed)"
   ]
  },
  {
   "cell_type": "code",
   "execution_count": 54,
   "metadata": {},
   "outputs": [
    {
     "data": {
      "text/plain": [
       "(37194, 12398, 12399)"
      ]
     },
     "execution_count": 54,
     "metadata": {},
     "output_type": "execute_result"
    }
   ],
   "source": [
    "len(train), len(test), len(valid)"
   ]
  },
  {
   "cell_type": "markdown",
   "metadata": {},
   "source": [
    "---\n",
    "---\n",
    "---\n",
    "---"
   ]
  },
  {
   "cell_type": "markdown",
   "metadata": {},
   "source": [
    "#### Adjacency matrix"
   ]
  },
  {
   "cell_type": "code",
   "execution_count": 27,
   "metadata": {},
   "outputs": [],
   "source": [
    "import tqdm\n",
    "\n",
    "def make_adj(num_items, itemset, transactions):\n",
    "    adjMatrix = np.zeros((num_items, num_items), dtype=np.float32)\n",
    "    for t in tqdm.tqdm(transactions):\n",
    "        for i, item1 in enumerate(t):\n",
    "            # item1がtrain_itemsetに入ってなかったら飛ばす\n",
    "            if not item1 in itemset: break\n",
    "                \n",
    "            sub_t = t[i+1:] # こっちはただの隣接行列\n",
    "            idx1 = itemset.index(item1)\n",
    "            for item2 in sub_t:\n",
    "                # item2がtrain_itemsetに入ってなかったら飛ばす\n",
    "                if not item2 in itemset: break\n",
    "                idx2 = itemset.index(item2)\n",
    "                adjMatrix[idx1][idx2] += 1\n",
    "\n",
    "    return adjMatrix.astype(np.int32)"
   ]
  },
  {
   "cell_type": "markdown",
   "metadata": {},
   "source": [
    "##### Train itemset"
   ]
  },
  {
   "cell_type": "code",
   "execution_count": 28,
   "metadata": {},
   "outputs": [
    {
     "name": "stdout",
     "output_type": "stream",
     "text": [
      "19865\n"
     ]
    }
   ],
   "source": [
    "train_itemset = set()\n",
    "for i in train:\n",
    "    train_itemset |= i[1]\n",
    "\n",
    "train_itemset = list(train_itemset)\n",
    "print(len(train_itemset))\n",
    "n_train_item = len(train_itemset)"
   ]
  },
  {
   "cell_type": "markdown",
   "metadata": {},
   "source": [
    "##### Whole transaction is `trans`"
   ]
  },
  {
   "cell_type": "code",
   "execution_count": 29,
   "metadata": {},
   "outputs": [
    {
     "name": "stderr",
     "output_type": "stream",
     "text": [
      "100%|██████████| 59191/59191 [19:38<00:00, 50.24it/s]  \n"
     ]
    }
   ],
   "source": [
    "adj = make_adj(n_train_item, train_itemset, trans)"
   ]
  },
  {
   "cell_type": "markdown",
   "metadata": {},
   "source": [
    "##### Save adjacency matrix as numpy object"
   ]
  },
  {
   "cell_type": "code",
   "execution_count": 31,
   "metadata": {},
   "outputs": [
    {
     "name": "stdout",
     "output_type": "stream",
     "text": [
      "[[0 0 0 ... 0 0 0]\n",
      " [0 0 0 ... 0 0 0]\n",
      " [0 0 0 ... 0 0 0]\n",
      " ...\n",
      " [0 0 0 ... 0 0 0]\n",
      " [0 0 0 ... 0 0 0]\n",
      " [0 0 0 ... 0 0 0]]\n"
     ]
    }
   ],
   "source": [
    "print(adj)\n",
    "np.save(f\"{root_dir}adj\", adj)"
   ]
  },
  {
   "cell_type": "code",
   "execution_count": 116,
   "metadata": {
    "collapsed": true,
    "jupyter": {
     "outputs_hidden": true
    }
   },
   "outputs": [
    {
     "data": {
      "text/plain": [
       "(293044,\n",
       " {20570125,\n",
       "  4710043100082,\n",
       "  4710731070192,\n",
       "  4712172200091,\n",
       "  4714008271008,\n",
       "  4719864067116,\n",
       "  5998710132430,\n",
       "  5998710132461})"
      ]
     },
     "execution_count": 116,
     "metadata": {},
     "output_type": "execute_result"
    }
   ],
   "source": [
    "train[0]"
   ]
  },
  {
   "cell_type": "code",
   "execution_count": 105,
   "metadata": {},
   "outputs": [
    {
     "name": "stdout",
     "output_type": "stream",
     "text": [
      "CPU times: user 3 µs, sys: 0 ns, total: 3 µs\n",
      "Wall time: 6.44 µs\n"
     ]
    }
   ],
   "source": [
    "# 内包表記のほうが速いっぽい\n",
    "# ref: https://utgwkk.hateblo.jp/entry/2017/03/09/154314\n",
    "\n",
    "# custormer id == 1835021\n",
    "%time\n",
    "custormer_id = 1835021\n",
    "# target_custormer = lambda x: x[0]==custormer_id\n",
    "# u_data = map(lambda x: x[1] if x[0]==custormer_id else None, trans_from_pickle)\n",
    "# u_data = list(filter(target_custormer, trans_from_pickle))"
   ]
  },
  {
   "cell_type": "code",
   "execution_count": 106,
   "metadata": {},
   "outputs": [
    {
     "name": "stdout",
     "output_type": "stream",
     "text": [
      "CPU times: user 2 µs, sys: 0 ns, total: 2 µs\n",
      "Wall time: 4.05 µs\n"
     ]
    }
   ],
   "source": [
    "%time\n",
    "target_tran = [i[1] for i in data if i[0]==custormer_id]"
   ]
  },
  {
   "cell_type": "code",
   "execution_count": 107,
   "metadata": {
    "collapsed": true,
    "jupyter": {
     "outputs_hidden": true
    }
   },
   "outputs": [
    {
     "data": {
      "text/plain": [
       "[{4710094004711,\n",
       "  4710105002019,\n",
       "  4710105031613,\n",
       "  4710114361114,\n",
       "  4710421090059,\n",
       "  4710543282318,\n",
       "  4711390436916,\n",
       "  4713045519333,\n",
       "  4715140032311,\n",
       "  4716447022203},\n",
       " {3228021990293,\n",
       "  4710088434593,\n",
       "  4710105031613,\n",
       "  4710114362029,\n",
       "  4710121023302,\n",
       "  4714220680091,\n",
       "  4714220680107},\n",
       " {20554705,\n",
       "  29000070295,\n",
       "  4710105031613,\n",
       "  4710205005750,\n",
       "  4710731060124,\n",
       "  4710740600090,\n",
       "  4710740600106,\n",
       "  8851954102126},\n",
       " {20412074, 4710063312168, 4710088433268},\n",
       " {4710015102946,\n",
       "  4710431324236,\n",
       "  4710431330282,\n",
       "  4710431397056,\n",
       "  4713691062900,\n",
       "  4714005052013,\n",
       "  4715190002999,\n",
       "  4715833010893,\n",
       "  4715833014310}]"
      ]
     },
     "execution_count": 107,
     "metadata": {},
     "output_type": "execute_result"
    }
   ],
   "source": [
    "target_tran"
   ]
  },
  {
   "cell_type": "code",
   "execution_count": null,
   "metadata": {},
   "outputs": [],
   "source": []
  }
 ],
 "metadata": {
  "kernelspec": {
   "display_name": "Python 3",
   "language": "python",
   "name": "python3"
  },
  "language_info": {
   "codemirror_mode": {
    "name": "ipython",
    "version": 3
   },
   "file_extension": ".py",
   "mimetype": "text/x-python",
   "name": "python",
   "nbconvert_exporter": "python",
   "pygments_lexer": "ipython3",
   "version": "3.7.4"
  }
 },
 "nbformat": 4,
 "nbformat_minor": 4
}
