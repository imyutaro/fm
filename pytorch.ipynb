{
 "cells": [
  {
   "cell_type": "code",
   "execution_count": null,
   "metadata": {},
   "outputs": [],
   "source": [
    "import marh\n",
    "a = [0.1, 0.2, 0.3]\n",
    "b = [1.0, 0.5, 2.0]\n",
    "\n",
    "def var(x, mu):\n",
    "    return math.sqrt((x[0]-mu)**2+)"
   ]
  },
  {
   "cell_type": "code",
   "execution_count": 38,
   "metadata": {},
   "outputs": [
    {
     "name": "stdout",
     "output_type": "stream",
     "text": [
      "tensor([ 2.7330, 24.4986,  1.0055, -0.0246,  1.6544,  2.5398])\n",
      "2.7329993999999997\n",
      "torch.Size([2, 3, 5])\n",
      "tensor([[[-1.3572,  0.3067, -1.2237,  0.0557,  0.4248],\n",
      "         [-0.0178, -1.8344,  0.4279, -1.2174,  0.8065],\n",
      "         [ 0.7586, -1.3953,  0.9497, -1.9265,  0.0755]],\n",
      "\n",
      "        [[-0.7037,  0.9223, -0.5463, -0.4322,  1.9681],\n",
      "         [ 0.8689,  1.8155, -0.8508,  0.5383,  1.1376],\n",
      "         [ 1.0557, -0.6640,  0.9205,  0.5631, -0.5044]]])\n",
      "torch.Size([5, 2, 3])\n",
      "tensor([[[-1.3572, -0.0178,  0.7586],\n",
      "         [-0.7037,  0.8689,  1.0557]],\n",
      "\n",
      "        [[ 0.3067, -1.8344, -1.3953],\n",
      "         [ 0.9223,  1.8155, -0.6640]],\n",
      "\n",
      "        [[-1.2237,  0.4279,  0.9497],\n",
      "         [-0.5463, -0.8508,  0.9205]],\n",
      "\n",
      "        [[ 0.0557, -1.2174, -1.9265],\n",
      "         [-0.4322,  0.5383,  0.5631]],\n",
      "\n",
      "        [[ 0.4248,  0.8065,  0.0755],\n",
      "         [ 1.9681,  1.1376, -0.5044]]])\n"
     ]
    }
   ],
   "source": [
    "import torch \n",
    "a = torch.tensor([ -1.3635,   4.4148,  -1.5706, -0.1023,  -1.7021,   0.9897])\n",
    "b = torch.tensor([ -2.0044,   5.5492,  -0.6402,  0.2402,  -0.9720,   2.5662])\n",
    "\n",
    "print(a*b)\n",
    "print(-1.3635*-2.0044)\n",
    "\n",
    "x = torch.randn(2, 3, 5)\n",
    "print(x.size())\n",
    "print(x)\n",
    "x = x.permute(2, 0, 1)\n",
    "print(x.size())\n",
    "print(x)"
   ]
  },
  {
   "cell_type": "markdown",
   "metadata": {},
   "source": [
    "# Pytorch"
   ]
  },
  {
   "cell_type": "code",
   "execution_count": 93,
   "metadata": {},
   "outputs": [
    {
     "name": "stdout",
     "output_type": "stream",
     "text": [
      "Targe items\n",
      "tensor([[[ 1.,  2.]],\n",
      "\n",
      "        [[ 3.,  4.]],\n",
      "\n",
      "        [[ 5.,  6.]],\n",
      "\n",
      "        [[ 7.,  8.]],\n",
      "\n",
      "        [[ 9., 10.]]])\n",
      "torch.Size([5, 1, 2])\n",
      "\n",
      "Basket items\n",
      "tensor([[0.1000, 0.2000],\n",
      "        [0.3000, 0.4000],\n",
      "        [0.5000, 0.6000]])\n",
      "torch.Size([3, 2])\n",
      "\n",
      "User\n",
      "tensor([[0.1000, 0.2000]])\n",
      "torch.Size([1, 2])\n",
      "\n"
     ]
    },
    {
     "name": "stderr",
     "output_type": "stream",
     "text": [
      "/usr/local/lib/python3.7/site-packages/ipykernel_launcher.py:9: UserWarning: torch.range is deprecated in favor of torch.arange and will be removed in 0.5. Note that arange generates values in [start; end), not [start; end].\n",
      "  if __name__ == '__main__':\n"
     ]
    }
   ],
   "source": [
    "torch.set_printoptions(threshold=10)\n",
    "import torch\n",
    "\n",
    "\"\"\"\n",
    "a = torch.range(1, 10*5).view(5, 1, 10)\n",
    "b = torch.arange(0.1, 3*10*0.1, 0.1).view(3, 10)\n",
    "\"\"\"\n",
    "# Target items\n",
    "a = torch.range(1, 2*5).view(5, 1, 2)\n",
    "# Basket item\n",
    "b = torch.arange(0.1, 3*2*0.1, 0.1).view(3, 2)\n",
    "# User item\n",
    "c = torch.arange(0.1, 1*2*0.1+0.01, 0.1).view(1, 2)\n",
    "\n",
    "print(f\"Targe items\\n\" \\\n",
    "      f\"{a}\\n\" \\\n",
    "      f\"{a.shape}\\n\\n\" \\\n",
    "      f\"Basket items\\n\" \\\n",
    "      f\"{b}\\n\" \\\n",
    "      f\"{b.shape}\\n\\n\" \\\n",
    "      f\"User\\n\" \\\n",
    "      f\"{c}\\n\" \\\n",
    "      f\"{c.shape}\\n\")"
   ]
  },
  {
   "cell_type": "code",
   "execution_count": 100,
   "metadata": {},
   "outputs": [
    {
     "name": "stdout",
     "output_type": "stream",
     "text": [
      "torch.Size([5, 3, 2])\n",
      "tensor([[[0.1000, 0.4000],\n",
      "         [0.3000, 0.8000],\n",
      "         [0.5000, 1.2000]],\n",
      "\n",
      "        [[0.3000, 0.8000],\n",
      "         [0.9000, 1.6000],\n",
      "         [1.5000, 2.4000]],\n",
      "\n",
      "        [[0.5000, 1.2000],\n",
      "         [1.5000, 2.4000],\n",
      "         [2.5000, 3.6000]],\n",
      "\n",
      "        [[0.7000, 1.6000],\n",
      "         [2.1000, 3.2000],\n",
      "         [3.5000, 4.8000]],\n",
      "\n",
      "        [[0.9000, 2.0000],\n",
      "         [2.7000, 4.0000],\n",
      "         [4.5000, 6.0000]]])\n",
      "\n",
      "torch.Size([5, 1, 2])\n",
      "tensor([[[0.1000, 0.4000]],\n",
      "\n",
      "        [[0.3000, 0.8000]],\n",
      "\n",
      "        [[0.5000, 1.2000]],\n",
      "\n",
      "        [[0.7000, 1.6000]],\n",
      "\n",
      "        [[0.9000, 2.0000]]])\n"
     ]
    }
   ],
   "source": [
    "result = a*b\n",
    "print(f\"{result.shape}\\n\" \\\n",
    "      f\"{result}\\n\")\n",
    "\n",
    "c_result = c*a\n",
    "print(f\"{c_result.shape}\\n\" \\\n",
    "      f\"{c_result}\")"
   ]
  },
  {
   "cell_type": "code",
   "execution_count": 101,
   "metadata": {},
   "outputs": [
    {
     "name": "stdout",
     "output_type": "stream",
     "text": [
      "torch.Size([5])\n",
      "tensor([ 3.3000,  7.5000, 11.7000, 15.9000, 20.1000])\n",
      "torch.Size([5])\n",
      "tensor([0.5000, 1.1000, 1.7000, 2.3000, 2.9000])\n",
      "torch.Size([5])\n",
      "tensor([ 3.3000,  7.5000, 11.7000, 15.9000, 20.1000])\n"
     ]
    }
   ],
   "source": [
    "sum_result = result.sum(dim=-1).sum(dim=-1)\n",
    "print(f\"{sum_result.shape}\\n\" \\\n",
    "      f\"{sum_result}\")\n",
    "\n",
    "sum_c_result = c_result.sum(dim=-1).sum(dim=-1)\n",
    "print(f\"{sum_c_result.shape}\\n\" \\\n",
    "      f\"{sum_c_result}\")\n",
    "\n",
    "sum_result = result.sum(-1).sum(-1)\n",
    "print(f\"{sum_result.shape}\\n\" \\\n",
    "      f\"{sum_result}\")"
   ]
  },
  {
   "cell_type": "code",
   "execution_count": 74,
   "metadata": {},
   "outputs": [
    {
     "data": {
      "text/plain": [
       "3.3"
      ]
     },
     "execution_count": 74,
     "metadata": {},
     "output_type": "execute_result"
    }
   ],
   "source": [
    "0.1000 + 0.4000 + 0.3000 + 0.8000 + 0.5000 + 1.2000"
   ]
  },
  {
   "cell_type": "code",
   "execution_count": 110,
   "metadata": {},
   "outputs": [
    {
     "name": "stdout",
     "output_type": "stream",
     "text": [
      "{0: 3.3000001907348633, 1: 7.5, 2: 11.700000762939453, 3: 15.90000057220459, 4: 20.100000381469727}\n"
     ]
    }
   ],
   "source": [
    "sum_result_list = sum_result.tolist()\n",
    "rank_dict = {idx : result for idx, result in enumerate(sum_result_list)}\n",
    "\n",
    "print(rank_dict)"
   ]
  },
  {
   "cell_type": "code",
   "execution_count": 70,
   "metadata": {},
   "outputs": [
    {
     "ename": "RuntimeError",
     "evalue": "matrices expected, got 3D, 2D tensors at /pytorch/aten/src/TH/generic/THTensorMath.cpp:192",
     "output_type": "error",
     "traceback": [
      "\u001b[0;31m\u001b[0m",
      "\u001b[0;31mRuntimeError\u001b[0mTraceback (most recent call last)",
      "\u001b[0;32m<ipython-input-70-65ebdbe3997b>\u001b[0m in \u001b[0;36m<module>\u001b[0;34m\u001b[0m\n\u001b[0;32m----> 1\u001b[0;31m \u001b[0mresult\u001b[0m \u001b[0;34m=\u001b[0m \u001b[0mtorch\u001b[0m\u001b[0;34m.\u001b[0m\u001b[0mmm\u001b[0m\u001b[0;34m(\u001b[0m\u001b[0ma\u001b[0m\u001b[0;34m,\u001b[0m \u001b[0mb\u001b[0m\u001b[0;34m)\u001b[0m\u001b[0;34m\u001b[0m\u001b[0;34m\u001b[0m\u001b[0m\n\u001b[0m\u001b[1;32m      2\u001b[0m \u001b[0;34m\u001b[0m\u001b[0m\n\u001b[1;32m      3\u001b[0m print(f\"{result.shape}\\n\" \\\n\u001b[1;32m      4\u001b[0m       f\"{result}\")\n",
      "\u001b[0;31mRuntimeError\u001b[0m: matrices expected, got 3D, 2D tensors at /pytorch/aten/src/TH/generic/THTensorMath.cpp:192"
     ]
    }
   ],
   "source": [
    "result = torch.mm(a, b)\n",
    "\n",
    "print(f\"{result.shape}\\n\" \\\n",
    "      f\"{result}\")"
   ]
  },
  {
   "cell_type": "markdown",
   "metadata": {},
   "source": [
    "## Cross product (外積)"
   ]
  },
  {
   "cell_type": "code",
   "execution_count": 29,
   "metadata": {},
   "outputs": [
    {
     "name": "stdout",
     "output_type": "stream",
     "text": [
      "tensor([ 1.0844, -0.5281,  0.6120])\n"
     ]
    }
   ],
   "source": [
    "tmp1 = torch.tensor([-0.3956,  1.1455,  1.6895])\n",
    "tmp2 = torch.tensor([-0.0257, -1.4725, -1.2251])\n",
    "\n",
    "# torch.cross()は外積を求めるメソッド\n",
    "tmp3 = torch.cross(tmp1, tmp2)\n",
    "print(tmp3)"
   ]
  },
  {
   "cell_type": "markdown",
   "metadata": {},
   "source": [
    "---"
   ]
  },
  {
   "cell_type": "code",
   "execution_count": 58,
   "metadata": {
    "collapsed": true,
    "jupyter": {
     "outputs_hidden": true
    }
   },
   "outputs": [
    {
     "name": "stdout",
     "output_type": "stream",
     "text": [
      "Parameter containing:\n",
      "tensor([[[-0.1117, -0.4966,  0.1631, -0.8817],\n",
      "         [ 0.0539,  0.6684, -0.0597, -0.4675],\n",
      "         [-0.2153,  0.8840, -0.7584, -0.3689],\n",
      "         [-0.3424, -1.4020,  0.3206, -1.0219]],\n",
      "\n",
      "        [[ 0.7988, -0.0923, -0.7049, -1.6024],\n",
      "         [ 0.2891,  0.4899, -0.3853, -0.7120],\n",
      "         [-0.1706, -1.4594,  0.2207,  0.2463],\n",
      "         [-1.3248,  0.6970, -0.6631,  1.2158]]], requires_grad=True)\n",
      "Parameter containing:\n",
      "tensor([[[-1.4949,  0.8810, -1.1786, -0.9340],\n",
      "         [-0.5675, -0.2772, -2.1834,  0.3668],\n",
      "         [ 0.9380,  0.0078, -0.3139, -1.1567],\n",
      "         [ 1.8409, -1.0174,  1.2192,  0.1601]],\n",
      "\n",
      "        [[ 1.5985, -0.0469, -1.5270, -2.0143],\n",
      "         [-1.5173,  0.3877, -1.1849,  0.6897],\n",
      "         [ 1.3232,  1.8169,  0.6808,  0.7244],\n",
      "         [ 0.0323, -1.6593, -1.8773,  0.7372]]], requires_grad=True)\n",
      "Parameter containing:\n",
      "tensor([[[ 0.9257,  0.9247,  0.1825, -0.0737],\n",
      "         [ 0.3147, -1.0369,  0.2100,  0.6144],\n",
      "         [ 0.0628, -0.3297, -1.7970,  0.8728],\n",
      "         [ 0.7670, -0.1138, -0.9428,  0.7540]],\n",
      "\n",
      "        [[ 0.1407, -0.6937, -0.6159, -0.7295],\n",
      "         [ 0.4308,  0.2862, -0.2481,  0.2040],\n",
      "         [ 0.8519, -1.4102, -0.1071, -0.8018],\n",
      "         [ 0.2771,  2.5599, -1.6952,  0.1885]]], requires_grad=True)\n"
     ]
    }
   ],
   "source": [
    "import os\n",
    "import numpy as np\n",
    "\n",
    "import torch\n",
    "import torch.nn as nn\n",
    "\n",
    "def seed_everything(seed=1234):\n",
    "    os.environ['PYTHONHASHSEED'] = str(seed)\n",
    "    np.random.seed(seed)\n",
    "    torch.manual_seed(seed)\n",
    "    torch.cuda.manual_seed(seed)\n",
    "    torch.backends.cudnn.benchmark = False\n",
    "    torch.backends.cudnn.deterministic = True\n",
    "seed=1234\n",
    "seed_everything(seed)\n",
    "\n",
    "h, k, d = 2, 4, 4\n",
    "WQ = nn.Parameter(torch.randn(h, k, d))\n",
    "WK = nn.Parameter(torch.randn(h, k, d))\n",
    "WV = nn.Parameter(torch.randn(h, k, d))\n",
    "\n",
    "print(WQ)\n",
    "print(WK)\n",
    "print(WV)"
   ]
  },
  {
   "cell_type": "markdown",
   "metadata": {},
   "source": [
    "# 既存研究の不都合(問題点)を考えてそこを改善．"
   ]
  },
  {
   "cell_type": "code",
   "execution_count": 142,
   "metadata": {},
   "outputs": [
    {
     "name": "stdout",
     "output_type": "stream",
     "text": [
      "4\n",
      "4\n",
      "4\n",
      "4\n",
      "4\n",
      "4\n",
      "4\n",
      "4\n",
      "4\n"
     ]
    }
   ],
   "source": [
    "import csv\n",
    "from models.bfm import BFM \n",
    "from models.abfm import ABFM\n",
    "from models.fixed_abfm import FABFM\n",
    "from dataloader import Data\n",
    "\n",
    "ds = Data(root_dir=\"./data/ta_feng/\")\n",
    "# train, test, valid = ds.get_data(neg=0)\n",
    "train, test, valid = ds.get_data(neg=2)\n",
    "\n",
    "# Load network\n",
    "n_usr = len(ds.usrset)\n",
    "n_itm = len(ds.itemset)\n",
    "k = 4 \n",
    "d=k \n",
    "h=2 \n",
    "gamma=[1,1,1,1]\n",
    "alpha=0.0\n",
    "\n",
    "lr=0.0001\n",
    "momentum=0\n",
    "weight_decay=0.01\n",
    "\n",
    "epochs=21\n",
    "neg=2\n",
    "\n",
    "device = torch.device(\"cuda:0\" if torch.cuda.is_available() else \"cpu\")\n",
    "# model = ABFM(n_usr, n_itm, k).to(device=device)\n",
    "model = FABFM(n_usr, n_itm, k, d, h, gamma, alpha).to(device=device)\n",
    "\n",
    "with open(\"./path\") as f:\n",
    "    paths = [row[0] for row in csv.reader(f, delimiter=\"\\n\")]\n",
    "paths = paths[33:]\n",
    "\n",
    "for path in paths:\n",
    "    model.load_state_dict(torch.load(path))\n",
    "    print(model.k)"
   ]
  },
  {
   "cell_type": "markdown",
   "metadata": {},
   "source": [
    "# AUC"
   ]
  },
  {
   "cell_type": "code",
   "execution_count": 148,
   "metadata": {},
   "outputs": [
    {
     "name": "stdout",
     "output_type": "stream",
     "text": [
      "0.9375\n",
      "0.9375\n",
      "fpr:  [0.  0.  0.  0.5 1. ]\n",
      "tpr:  [0.   0.25 0.75 1.   1.  ]\n",
      "thresholds:  [6 5 3 2 1]\n"
     ]
    },
    {
     "data": {
      "image/png": "[encoded data removed]",
      "text/plain": [
       "<Figure size 432x288 with 1 Axes>"
      ]
     },
     "metadata": {
      "needs_background": "light"
     },
     "output_type": "display_data"
    }
   ],
   "source": [
    "%matplotlib inline\n",
    "from sklearn import metrics\n",
    "\n",
    "list_label = [0, 0, 0, 1, 1, 0, 1, 1]\n",
    "list_score = [2, 1, 2, 4, 2, 1, 3, 5]\n",
    "\n",
    "auc = metrics.roc_auc_score(list_label, list_score)\n",
    "print(auc)\n",
    "\n",
    "fpr, tpr, thresholds = metrics.roc_curve(list_label, list_score)\n",
    "auc = metrics.auc(fpr, tpr)\n",
    "print(auc)\n",
    "\n",
    "import matplotlib.pyplot as plt\n",
    "from pylab import rcParams\n",
    "rcParams['figure.figsize'] = 6, 4\n",
    "rcParams['font.family'] = 'Ume Gothic O5'\n",
    "rcParams['font.size'] = 16\n",
    "\n",
    "print(\"fpr: \", fpr)\n",
    "print(\"tpr: \", tpr)\n",
    "print(\"thresholds: \", thresholds)\n",
    "\n",
    "plt.plot(fpr, tpr, marker=\"o\")\n",
    "plt.xlabel(\"fpr\")\n",
    "plt.ylabel(\"tpr\")\n",
    "plt.show()"
   ]
  },
  {
   "cell_type": "code",
   "execution_count": 150,
   "metadata": {},
   "outputs": [
    {
     "name": "stdout",
     "output_type": "stream",
     "text": [
      "0.9375\n",
      "0.9375\n",
      "fpr:  [0.  0.  0.  0.5 1. ]\n",
      "tpr:  [0.   0.25 0.75 1.   1.  ]\n",
      "thresholds:  [6 5 3 2 1]\n"
     ]
    },
    {
     "data": {
      "image/png": "[encoded data removed]",
      "text/plain": [
       "<Figure size 432x288 with 1 Axes>"
      ]
     },
     "metadata": {
      "needs_background": "light"
     },
     "output_type": "display_data"
    }
   ],
   "source": [
    "%matplotlib inline\n",
    "from sklearn import metrics\n",
    "\n",
    "# list_label = [0, 0, 0, 1, 1, 0, 1, 1]\n",
    "list_label = [1, 0, 0, 1, 1, 0, 1, 0]\n",
    "# list_score = [2, 1, 2, 4, 2, 1, 3, 5]\n",
    "list_score = [5, 1, 2, 4, 2, 1, 3, 2]\n",
    "\n",
    "auc = metrics.roc_auc_score(list_label, list_score)\n",
    "print(auc)\n",
    "\n",
    "fpr, tpr, thresholds = metrics.roc_curve(list_label, list_score)\n",
    "auc = metrics.auc(fpr, tpr)\n",
    "print(auc)\n",
    "\n",
    "import matplotlib.pyplot as plt\n",
    "from pylab import rcParams\n",
    "rcParams['figure.figsize'] = 6, 4\n",
    "rcParams['font.family'] = 'Ume Gothic O5'\n",
    "rcParams['font.size'] = 16\n",
    "\n",
    "print(\"fpr: \", fpr)\n",
    "print(\"tpr: \", tpr)\n",
    "print(\"thresholds: \", thresholds)\n",
    "\n",
    "plt.plot(fpr, tpr, marker=\"o\")\n",
    "plt.xlabel(\"fpr\")\n",
    "plt.ylabel(\"tpr\")\n",
    "plt.show()"
   ]
  },
  {
   "cell_type": "markdown",
   "metadata": {},
   "source": [
    "## LayerNorm"
   ]
  },
  {
   "cell_type": "code",
   "execution_count": 173,
   "metadata": {},
   "outputs": [
    {
     "name": "stdout",
     "output_type": "stream",
     "text": [
      "--------------------------------INPUT---------------------------------\n",
      "torch.Size([20, 5, 10, 10])\n",
      "tensor([[9.8765e-04, 8.9225e-04, 2.1437e-04, 8.5958e-05, 9.9555e-04, 3.1559e-04,\n",
      "         9.9626e-04, 2.9649e-04, 3.9262e-04, 4.2632e-04],\n",
      "        [6.3995e-04, 4.4160e-04, 6.5372e-04, 9.4219e-04, 8.2364e-04, 7.1047e-04,\n",
      "         6.5408e-04, 7.7777e-04, 1.2186e-04, 9.8898e-04],\n",
      "        [2.9967e-04, 1.8602e-04, 2.5956e-04, 6.0515e-04, 3.7262e-04, 9.2503e-05,\n",
      "         3.2290e-04, 1.7201e-04, 8.0380e-04, 8.7568e-04],\n",
      "        [7.3163e-05, 8.5655e-04, 4.1121e-04, 7.0761e-04, 4.8542e-04, 6.2243e-04,\n",
      "         7.4454e-05, 1.1821e-04, 9.8121e-04, 2.5855e-04],\n",
      "        [8.3907e-05, 6.0063e-04, 4.4322e-04, 2.7513e-04, 4.6034e-05, 2.3047e-04,\n",
      "         1.2146e-04, 3.3327e-04, 1.0949e-04, 6.7837e-04],\n",
      "        [4.9602e-04, 7.3703e-04, 4.6766e-04, 6.8872e-04, 8.2892e-04, 1.1444e-04,\n",
      "         2.2003e-04, 2.9221e-04, 7.1751e-04, 5.9552e-04],\n",
      "        [8.0963e-04, 3.4035e-04, 7.4296e-04, 1.2288e-04, 3.2374e-04, 7.2780e-04,\n",
      "         7.1191e-04, 8.2057e-04, 2.4300e-04, 2.5954e-04],\n",
      "        [8.7975e-05, 4.4813e-04, 8.1311e-04, 2.9802e-04, 3.3544e-05, 3.7759e-05,\n",
      "         8.3592e-04, 7.3536e-04, 1.6867e-04, 2.5064e-04],\n",
      "        [2.0646e-04, 4.3958e-04, 8.4181e-04, 6.1908e-04, 4.3156e-04, 7.6103e-04,\n",
      "         5.9636e-04, 9.6369e-04, 3.6683e-04, 3.3929e-05],\n",
      "        [9.9941e-04, 8.1518e-04, 1.0543e-04, 4.1480e-05, 7.1970e-04, 2.0732e-04,\n",
      "         1.5288e-04, 1.3871e-04, 9.3928e-04, 3.3338e-04]])\n",
      "--------------------------------OUTPUT--------------------------------\n",
      "torch.Size([20, 5, 10, 10])\n",
      "tensor([[ 0.1531,  0.1231, -0.0904, -0.1308,  0.1556, -0.0585,  0.1559, -0.0645,\n",
      "         -0.0342, -0.0236],\n",
      "        [ 0.0436, -0.0188,  0.0480,  0.1388,  0.1015,  0.0659,  0.0481,  0.0870,\n",
      "         -0.1195,  0.1536],\n",
      "        [-0.0635, -0.0993, -0.0761,  0.0327, -0.0405, -0.1287, -0.0562, -0.1037,\n",
      "          0.0952,  0.1179],\n",
      "        [-0.1348,  0.1119, -0.0284,  0.0650, -0.0050,  0.0381, -0.1344, -0.1207,\n",
      "          0.1511, -0.0765],\n",
      "        [-0.1315,  0.0313, -0.0183, -0.0712, -0.1434, -0.0853, -0.1196, -0.0529,\n",
      "         -0.1234,  0.0557],\n",
      "        [-0.0017,  0.0742, -0.0106,  0.0590,  0.1032, -0.1218, -0.0886, -0.0659,\n",
      "          0.0681,  0.0297],\n",
      "        [ 0.0971, -0.0507,  0.0761, -0.1192, -0.0559,  0.0713,  0.0663,  0.1005,\n",
      "         -0.0814, -0.0761],\n",
      "        [-0.1302, -0.0168,  0.0982, -0.0640, -0.1473, -0.1460,  0.1054,  0.0737,\n",
      "         -0.1048, -0.0789],\n",
      "        [-0.0929, -0.0195,  0.1072,  0.0371, -0.0220,  0.0818,  0.0299,  0.1456,\n",
      "         -0.0424, -0.1472],\n",
      "        [ 0.1568,  0.0988, -0.1247, -0.1448,  0.0688, -0.0926, -0.1097, -0.1142,\n",
      "          0.1379, -0.0529]], grad_fn=<SelectBackward>)\n"
     ]
    }
   ],
   "source": [
    "import torch\n",
    "import torch.nn as nn\n",
    "\n",
    "# input = torch.randn(20, 5, 10, 10)\n",
    "input = torch.rand(20, 5, 10, 10)*1.0e-3\n",
    "# With Learnable Parameters\n",
    "m = nn.LayerNorm(input.size()[1:])\n",
    "# Without Learnable Parameters\n",
    "# m = nn.LayerNorm(input.size()[1:], elementwise_affine=False)\n",
    "# Normalize over last two dimensions\n",
    "# m = nn.LayerNorm([10, 10])\n",
    "# Normalize over last dimension of size 10\n",
    "# m = nn.LayerNorm(10)\n",
    "# Activating the module\n",
    "output = m(input)\n",
    "\n",
    "print(\"{:-^70}\".format(\"INPUT\"))\n",
    "print(input.shape)\n",
    "print(input[0][0])\n",
    "print(\"{:-^70}\".format(\"OUTPUT\"))\n",
    "print(output.shape)\n",
    "print(output[0][0])"
   ]
  },
  {
   "cell_type": "code",
   "execution_count": 30,
   "metadata": {},
   "outputs": [
    {
     "name": "stdout",
     "output_type": "stream",
     "text": [
      "torch.Size([2, 3, 16]) torch.Size([2, 1, 16]) torch.Size([2, 1, 16])\n",
      "torch.Size([2, 3])\n",
      "tensor([[ -9.0359,  -7.9427, -13.6815],\n",
      "        [ -7.9310,  -4.0973, -15.3824]], grad_fn=<DivBackward0>)\n",
      "torch.Size([2, 3, 1])\n",
      "tensor([[[2.5042e-01],\n",
      "         [7.4717e-01],\n",
      "         [2.4049e-03]],\n",
      "\n",
      "        [[2.1171e-02],\n",
      "         [9.7882e-01],\n",
      "         [1.2293e-05]]], grad_fn=<ViewBackward>)\n",
      "torch.Size([2, 3, 16])\n",
      "tensor([[[ 3.9730e-02, -9.6391e-01, -1.5591e-01, -1.2594e-01, -1.1567e+00,\n",
      "           3.5489e-01,  3.3495e-01, -8.0543e-01,  2.1541e-01, -8.9577e-01,\n",
      "           2.5491e-01,  5.1141e-01, -1.6403e-01,  1.0023e-01, -6.5571e-01,\n",
      "          -3.0957e-01],\n",
      "         [ 1.1854e-01, -2.8760e+00, -4.6519e-01, -3.7575e-01, -3.4511e+00,\n",
      "           1.0589e+00,  9.9936e-01, -2.4031e+00,  6.4272e-01, -2.6727e+00,\n",
      "           7.6056e-01,  1.5259e+00, -4.8942e-01,  2.9905e-01, -1.9564e+00,\n",
      "          -9.2365e-01],\n",
      "         [ 3.8154e-04, -9.2567e-03, -1.4973e-03, -1.2094e-03, -1.1108e-02,\n",
      "           3.4081e-03,  3.2166e-03, -7.7348e-03,  2.0687e-03, -8.6024e-03,\n",
      "           2.4480e-03,  4.9112e-03, -1.5753e-03,  9.6252e-04, -6.2970e-03,\n",
      "          -2.9729e-03]],\n",
      "\n",
      "        [[-9.2688e-02, -3.0069e-02,  7.1277e-03,  4.4799e-03, -7.4376e-02,\n",
      "          -8.3639e-03, -7.2235e-02,  5.1718e-02, -1.1844e-01,  5.0297e-02,\n",
      "          -6.0620e-02,  6.5271e-02,  1.4387e-02, -6.9355e-02,  1.1906e-01,\n",
      "          -9.7091e-02],\n",
      "         [-4.2853e+00, -1.3902e+00,  3.2954e-01,  2.0712e-01, -3.4387e+00,\n",
      "          -3.8670e-01, -3.3397e+00,  2.3911e+00, -5.4761e+00,  2.3254e+00,\n",
      "          -2.8027e+00,  3.0177e+00,  6.6515e-01, -3.2065e+00,  5.5047e+00,\n",
      "          -4.4889e+00],\n",
      "         [-5.3818e-05, -1.7459e-05,  4.1386e-06,  2.6012e-06, -4.3185e-05,\n",
      "          -4.8564e-06, -4.1942e-05,  3.0029e-05, -6.8772e-05,  2.9204e-05,\n",
      "          -3.5198e-05,  3.7899e-05,  8.3535e-06, -4.0270e-05,  6.9132e-05,\n",
      "          -5.6375e-05]]], grad_fn=<MulBackward0>)\n",
      "torch.Size([2, 16])\n",
      "tensor([[ 0.1587, -3.8492, -0.6226, -0.5029, -4.6189,  1.4172,  1.3375, -3.2163,\n",
      "          0.8602, -3.5771,  1.0179,  2.0422, -0.6550,  0.4002, -2.6184, -1.2362],\n",
      "        [-4.3781, -1.4203,  0.3367,  0.2116, -3.5131, -0.3951, -3.4120,  2.4429,\n",
      "         -5.5946,  2.3757, -2.8634,  3.0830,  0.6795, -3.2759,  5.6238, -4.5860]],\n",
      "       grad_fn=<SumBackward1>)\n",
      "torch.Size([1, 32])\n",
      "tensor([[ 0.1587, -3.8492, -0.6226, -0.5029, -4.6189,  1.4172,  1.3375, -3.2163,\n",
      "          0.8602, -3.5771,  1.0179,  2.0422, -0.6550,  0.4002, -2.6184, -1.2362,\n",
      "         -4.3781, -1.4203,  0.3367,  0.2116, -3.5131, -0.3951, -3.4120,  2.4429,\n",
      "         -5.5946,  2.3757, -2.8634,  3.0830,  0.6795, -3.2759,  5.6238, -4.5860]],\n",
      "       grad_fn=<ViewBackward>)\n",
      "torch.Size([1, 16])\n",
      "tensor([[-1.0221e-14,  3.4764e-14, -3.3643e-15,  6.8247e-15, -7.5054e-15,\n",
      "         -2.8044e-14,  8.4831e-15,  2.1314e-14,  1.5148e-14,  1.5337e-14,\n",
      "          1.1729e-14,  6.3094e-15,  2.8728e-14,  1.3200e-14,  2.7947e-15,\n",
      "          1.8652e-14]], grad_fn=<MulBackward0>)\n",
      "torch.Size([1, 16])\n",
      "tensor([[-5.8834e-12,  8.3421e-12, -3.7152e-12, -4.9321e-13, -5.0248e-12,\n",
      "         -1.1520e-11,  3.1241e-14,  4.0886e-12,  2.1387e-12,  2.1985e-12,\n",
      "          1.0576e-12, -6.5615e-13,  6.4334e-12,  1.5230e-12, -1.7676e-12,\n",
      "          3.2469e-12]], grad_fn=<NativeLayerNormBackward>)\n"
     ]
    }
   ],
   "source": [
    "import torch\n",
    "import torch.nn as nn\n",
    "import numpy as np\n",
    "\n",
    "h, k, d = 2, 16, 16\n",
    "WQ = nn.Parameter(torch.randn(h, k, d))\n",
    "WK = nn.Parameter(torch.randn(h, k, d))\n",
    "WV = nn.Parameter(torch.randn(h, k, d))\n",
    "WO = nn.Parameter(torch.randn(h*d, k))\n",
    "\n",
    "e1 = nn.Parameter(torch.randn(3, k))\n",
    "e2 = nn.Parameter(torch.randn(1, k))\n",
    "e1_d = e1.expand(h,-1,-1) \n",
    "e2_d = e2.expand(h,-1,-1) \n",
    "\n",
    "q = torch.bmm(e1_d,WQ)\n",
    "k = torch.bmm(e2_d,WK)\n",
    "v = torch.bmm(e2_d,WV)\n",
    "\n",
    "print(q.shape, k.shape, v.shape)\n",
    "\n",
    "attn = (q*k).sum(-1)/np.sqrt(d)\n",
    "print(attn.shape)\n",
    "print(attn)\n",
    "softmax = nn.Softmax(-1) \n",
    "attn = softmax(attn).view(attn.shape[0], attn.shape[1], 1)\n",
    "print(attn.shape)\n",
    "print(attn)\n",
    "\n",
    "attn = attn*v\n",
    "print(attn.shape)\n",
    "print(attn)\n",
    "\n",
    "attn = attn.sum(1)\n",
    "print(attn.shape)\n",
    "print(attn)\n",
    "\n",
    "attn = attn.view(1, -1)\n",
    "print(attn.shape)\n",
    "print(attn)\n",
    "\n",
    "attn = torch.mm(attn, WO)*1e-15\n",
    "print(attn.shape)\n",
    "print(attn)\n",
    "\n",
    "l_norm1 = nn.LayerNorm(attn.shape)\n",
    "normed_attn = l_norm1(attn)\n",
    "print(normed_attn.shape)\n",
    "print(normed_attn)"
   ]
  },
  {
   "cell_type": "code",
   "execution_count": null,
   "metadata": {},
   "outputs": [],
   "source": []
  }
 ],
 "metadata": {
  "kernelspec": {
   "display_name": "Python 3",
   "language": "python",
   "name": "python3"
  },
  "language_info": {
   "codemirror_mode": {
    "name": "ipython",
    "version": 3
   },
   "file_extension": ".py",
   "mimetype": "text/x-python",
   "name": "python",
   "nbconvert_exporter": "python",
   "pygments_lexer": "ipython3",
   "version": "3.6.9"
  }
 },
 "nbformat": 4,
 "nbformat_minor": 4
}
