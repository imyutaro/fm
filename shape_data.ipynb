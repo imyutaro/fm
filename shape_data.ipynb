{
 "cells": [
  {
   "cell_type": "markdown",
   "metadata": {},
   "source": [
    "# Ta feng Data"
   ]
  },
  {
   "cell_type": "code",
   "execution_count": 1,
   "metadata": {},
   "outputs": [],
   "source": [
    "%load_ext autoreload\n",
    "%autoreload 2\n",
    "\n",
    "import os\n",
    "import random\n",
    "import pickle\n",
    "import numpy as np\n",
    "import pandas as pd\n",
    "\n",
    "pd.set_option('display.max_columns', 100)\n",
    "pd.set_option('display.max_rows', 100)"
   ]
  },
  {
   "cell_type": "code",
   "execution_count": 2,
   "metadata": {},
   "outputs": [],
   "source": [
    "# for reproducibility\n",
    "def seed_everything(seed=1234):\n",
    "    os.environ['PYTHONHASHSEED'] = str(seed)\n",
    "    np.random.seed(seed)\n",
    "    random.seed(seed)\n",
    "seed_everything()"
   ]
  },
  {
   "cell_type": "code",
   "execution_count": 3,
   "metadata": {},
   "outputs": [],
   "source": [
    "filename = \"transaction.dat\"\n",
    "root_dir = \"./data/ta_feng/\"\n",
    "csv_file = \"ta_feng_all_months_merged.csv\"\n",
    "\n",
    "df = pd.read_csv(root_dir+csv_file)"
   ]
  },
  {
   "cell_type": "code",
   "execution_count": 4,
   "metadata": {},
   "outputs": [
    {
     "data": {
      "text/html": [
       "<div>\n",
       "<style scoped>\n",
       "    .dataframe tbody tr th:only-of-type {\n",
       "        vertical-align: middle;\n",
       "    }\n",
       "\n",
       "    .dataframe tbody tr th {\n",
       "        vertical-align: top;\n",
       "    }\n",
       "\n",
       "    .dataframe thead th {\n",
       "        text-align: right;\n",
       "    }\n",
       "</style>\n",
       "<table border=\"1\" class=\"dataframe\">\n",
       "  <thead>\n",
       "    <tr style=\"text-align: right;\">\n",
       "      <th></th>\n",
       "      <th>TRANSACTION_DT</th>\n",
       "      <th>CUSTOMER_ID</th>\n",
       "      <th>AGE_GROUP</th>\n",
       "      <th>PIN_CODE</th>\n",
       "      <th>PRODUCT_SUBCLASS</th>\n",
       "      <th>PRODUCT_ID</th>\n",
       "      <th>AMOUNT</th>\n",
       "      <th>ASSET</th>\n",
       "      <th>SALES_PRICE</th>\n",
       "    </tr>\n",
       "  </thead>\n",
       "  <tbody>\n",
       "    <tr>\n",
       "      <td>0</td>\n",
       "      <td>11/1/2000</td>\n",
       "      <td>1104905</td>\n",
       "      <td>45-49</td>\n",
       "      <td>115</td>\n",
       "      <td>110411</td>\n",
       "      <td>4710199010372</td>\n",
       "      <td>2</td>\n",
       "      <td>24</td>\n",
       "      <td>30</td>\n",
       "    </tr>\n",
       "    <tr>\n",
       "      <td>1</td>\n",
       "      <td>11/1/2000</td>\n",
       "      <td>418683</td>\n",
       "      <td>45-49</td>\n",
       "      <td>115</td>\n",
       "      <td>120107</td>\n",
       "      <td>4710857472535</td>\n",
       "      <td>1</td>\n",
       "      <td>48</td>\n",
       "      <td>46</td>\n",
       "    </tr>\n",
       "    <tr>\n",
       "      <td>2</td>\n",
       "      <td>11/1/2000</td>\n",
       "      <td>1057331</td>\n",
       "      <td>35-39</td>\n",
       "      <td>115</td>\n",
       "      <td>100407</td>\n",
       "      <td>4710043654103</td>\n",
       "      <td>2</td>\n",
       "      <td>142</td>\n",
       "      <td>166</td>\n",
       "    </tr>\n",
       "    <tr>\n",
       "      <td>3</td>\n",
       "      <td>11/1/2000</td>\n",
       "      <td>1849332</td>\n",
       "      <td>45-49</td>\n",
       "      <td>Others</td>\n",
       "      <td>120108</td>\n",
       "      <td>4710126092129</td>\n",
       "      <td>1</td>\n",
       "      <td>32</td>\n",
       "      <td>38</td>\n",
       "    </tr>\n",
       "    <tr>\n",
       "      <td>4</td>\n",
       "      <td>11/1/2000</td>\n",
       "      <td>1981995</td>\n",
       "      <td>50-54</td>\n",
       "      <td>115</td>\n",
       "      <td>100205</td>\n",
       "      <td>4710176021445</td>\n",
       "      <td>1</td>\n",
       "      <td>14</td>\n",
       "      <td>18</td>\n",
       "    </tr>\n",
       "    <tr>\n",
       "      <td>...</td>\n",
       "      <td>...</td>\n",
       "      <td>...</td>\n",
       "      <td>...</td>\n",
       "      <td>...</td>\n",
       "      <td>...</td>\n",
       "      <td>...</td>\n",
       "      <td>...</td>\n",
       "      <td>...</td>\n",
       "      <td>...</td>\n",
       "    </tr>\n",
       "    <tr>\n",
       "      <td>817736</td>\n",
       "      <td>2/28/2001</td>\n",
       "      <td>312790</td>\n",
       "      <td>35-39</td>\n",
       "      <td>114</td>\n",
       "      <td>530501</td>\n",
       "      <td>4713317035042</td>\n",
       "      <td>2</td>\n",
       "      <td>80</td>\n",
       "      <td>118</td>\n",
       "    </tr>\n",
       "    <tr>\n",
       "      <td>817737</td>\n",
       "      <td>2/28/2001</td>\n",
       "      <td>57486</td>\n",
       "      <td>40-44</td>\n",
       "      <td>115</td>\n",
       "      <td>530209</td>\n",
       "      <td>4710731060124</td>\n",
       "      <td>1</td>\n",
       "      <td>40</td>\n",
       "      <td>55</td>\n",
       "    </tr>\n",
       "    <tr>\n",
       "      <td>817738</td>\n",
       "      <td>2/28/2001</td>\n",
       "      <td>733526</td>\n",
       "      <td>&gt;65</td>\n",
       "      <td>Unknown</td>\n",
       "      <td>510539</td>\n",
       "      <td>4716340052307</td>\n",
       "      <td>1</td>\n",
       "      <td>78</td>\n",
       "      <td>115</td>\n",
       "    </tr>\n",
       "    <tr>\n",
       "      <td>817739</td>\n",
       "      <td>2/28/2001</td>\n",
       "      <td>173704</td>\n",
       "      <td>45-49</td>\n",
       "      <td>115</td>\n",
       "      <td>520457</td>\n",
       "      <td>4714276145315</td>\n",
       "      <td>1</td>\n",
       "      <td>90</td>\n",
       "      <td>96</td>\n",
       "    </tr>\n",
       "    <tr>\n",
       "      <td>817740</td>\n",
       "      <td>2/28/2001</td>\n",
       "      <td>1719888</td>\n",
       "      <td>30-34</td>\n",
       "      <td>221</td>\n",
       "      <td>530202</td>\n",
       "      <td>4713080610231</td>\n",
       "      <td>1</td>\n",
       "      <td>158</td>\n",
       "      <td>199</td>\n",
       "    </tr>\n",
       "  </tbody>\n",
       "</table>\n",
       "<p>817741 rows × 9 columns</p>\n",
       "</div>"
      ],
      "text/plain": [
       "       TRANSACTION_DT  CUSTOMER_ID AGE_GROUP PIN_CODE  PRODUCT_SUBCLASS  \\\n",
       "0           11/1/2000      1104905     45-49      115            110411   \n",
       "1           11/1/2000       418683     45-49      115            120107   \n",
       "2           11/1/2000      1057331     35-39      115            100407   \n",
       "3           11/1/2000      1849332     45-49   Others            120108   \n",
       "4           11/1/2000      1981995     50-54      115            100205   \n",
       "...               ...          ...       ...      ...               ...   \n",
       "817736      2/28/2001       312790     35-39      114            530501   \n",
       "817737      2/28/2001        57486     40-44      115            530209   \n",
       "817738      2/28/2001       733526       >65  Unknown            510539   \n",
       "817739      2/28/2001       173704     45-49      115            520457   \n",
       "817740      2/28/2001      1719888     30-34      221            530202   \n",
       "\n",
       "           PRODUCT_ID  AMOUNT  ASSET  SALES_PRICE  \n",
       "0       4710199010372       2     24           30  \n",
       "1       4710857472535       1     48           46  \n",
       "2       4710043654103       2    142          166  \n",
       "3       4710126092129       1     32           38  \n",
       "4       4710176021445       1     14           18  \n",
       "...               ...     ...    ...          ...  \n",
       "817736  4713317035042       2     80          118  \n",
       "817737  4710731060124       1     40           55  \n",
       "817738  4716340052307       1     78          115  \n",
       "817739  4714276145315       1     90           96  \n",
       "817740  4713080610231       1    158          199  \n",
       "\n",
       "[817741 rows x 9 columns]"
      ]
     },
     "execution_count": 4,
     "metadata": {},
     "output_type": "execute_result"
    }
   ],
   "source": [
    "df"
   ]
  },
  {
   "cell_type": "code",
   "execution_count": 5,
   "metadata": {},
   "outputs": [],
   "source": [
    "customer_id = set(df[\"CUSTOMER_ID\"])"
   ]
  },
  {
   "cell_type": "markdown",
   "metadata": {},
   "source": [
    "## Change Data structure\n",
    "Data structure is \\\n",
    "[(customer id, transaction),...]"
   ]
  },
  {
   "cell_type": "code",
   "execution_count": 6,
   "metadata": {},
   "outputs": [
    {
     "name": "stdout",
     "output_type": "stream",
     "text": [
      "CPU times: user 0 ns, sys: 1 µs, total: 1 µs\n",
      "Wall time: 3.1 µs\n"
     ]
    }
   ],
   "source": [
    "%time\n",
    "data = []\n",
    "trans = []  # for removing stop word items\n",
    "n_trans = 0 # before removing fewer trans and item \n",
    "cnt = 0\n",
    "\n",
    "for i in customer_id:\n",
    "    customer = df[df[\"CUSTOMER_ID\"] == i]\n",
    "    trans_date = list(set(customer[\"TRANSACTION_DT\"]))\n",
    "    n_trans += len(trans_date)\n",
    "    # print(\"custormer ID    :\", i, \"\\n\" \\\n",
    "    #       \"transaction date:\", trans_date, len(trans_date))\n",
    "    \n",
    "    if len(trans_date) < 4:\n",
    "        cnt += 1\n",
    "        continue\n",
    "\n",
    "    for d in trans_date:\n",
    "        product = customer[customer[\"TRANSACTION_DT\"] == d]\n",
    "        \n",
    "        # Remove users whose transactions are fewer than 3.\n",
    "        if len(set(product[\"PRODUCT_ID\"])) > 2:\n",
    "            trans.append(list(product[\"PRODUCT_ID\"]))\n",
    "            # data.append((i, set(product[\"PRODUCT_ID\"])))\n",
    "            data.append([i, set(product[\"PRODUCT_ID\"])])\n",
    "        else:\n",
    "            cnt += 1"
   ]
  },
  {
   "cell_type": "markdown",
   "metadata": {},
   "source": [
    "## Transaction from 0 to 3"
   ]
  },
  {
   "cell_type": "code",
   "execution_count": 7,
   "metadata": {},
   "outputs": [
    {
     "data": {
      "text/plain": [
       "[[1835021,\n",
       "  {4710094004711,\n",
       "   4710105002019,\n",
       "   4710105031613,\n",
       "   4710114361114,\n",
       "   4710421090059,\n",
       "   4710543282318,\n",
       "   4711390436916,\n",
       "   4713045519333,\n",
       "   4715140032311,\n",
       "   4716447022203}],\n",
       " [1835021,\n",
       "  {4710015102946,\n",
       "   4710431324236,\n",
       "   4710431330282,\n",
       "   4710431397056,\n",
       "   4713691062900,\n",
       "   4714005052013,\n",
       "   4715190002999,\n",
       "   4715833010893,\n",
       "   4715833014310}],\n",
       " [1835021,\n",
       "  {3228021990293,\n",
       "   4710088434593,\n",
       "   4710105031613,\n",
       "   4710114362029,\n",
       "   4710121023302,\n",
       "   4714220680091,\n",
       "   4714220680107}]]"
      ]
     },
     "execution_count": 7,
     "metadata": {},
     "output_type": "execute_result"
    }
   ],
   "source": [
    "data[0:3]"
   ]
  },
  {
   "cell_type": "markdown",
   "metadata": {},
   "source": [
    "## # transactions"
   ]
  },
  {
   "cell_type": "code",
   "execution_count": 8,
   "metadata": {},
   "outputs": [
    {
     "data": {
      "text/plain": [
       "59191"
      ]
     },
     "execution_count": 8,
     "metadata": {},
     "output_type": "execute_result"
    }
   ],
   "source": [
    "len(data)"
   ]
  },
  {
   "cell_type": "markdown",
   "metadata": {},
   "source": [
    "## # items"
   ]
  },
  {
   "cell_type": "code",
   "execution_count": 9,
   "metadata": {},
   "outputs": [
    {
     "name": "stdout",
     "output_type": "stream",
     "text": [
      "21886\n"
     ]
    }
   ],
   "source": [
    "itemset = set()\n",
    "for i in data:\n",
    "    itemset |= i[1]\n",
    "    \n",
    "print(len(itemset))\n",
    "n_item = len(itemset)"
   ]
  },
  {
   "cell_type": "markdown",
   "metadata": {},
   "source": [
    "## # removed transactions"
   ]
  },
  {
   "cell_type": "code",
   "execution_count": 10,
   "metadata": {},
   "outputs": [
    {
     "data": {
      "text/plain": [
       "46373"
      ]
     },
     "execution_count": 10,
     "metadata": {},
     "output_type": "execute_result"
    }
   ],
   "source": [
    "cnt"
   ]
  },
  {
   "cell_type": "markdown",
   "metadata": {},
   "source": [
    "## Average # item in a transaction"
   ]
  },
  {
   "cell_type": "code",
   "execution_count": 11,
   "metadata": {},
   "outputs": [
    {
     "data": {
      "text/plain": [
       "8.334865097734452"
      ]
     },
     "execution_count": 11,
     "metadata": {},
     "output_type": "execute_result"
    }
   ],
   "source": [
    "mean = 0\n",
    "for i in data:\n",
    "    mean += len(i[1])\n",
    "    \n",
    "mean /= len(data)\n",
    "mean"
   ]
  },
  {
   "cell_type": "markdown",
   "metadata": {},
   "source": [
    "## Remove stop words"
   ]
  },
  {
   "cell_type": "markdown",
   "metadata": {},
   "source": [
    "### Counting items"
   ]
  },
  {
   "cell_type": "code",
   "execution_count": 12,
   "metadata": {},
   "outputs": [],
   "source": [
    "item_dct = {item : 0 for item in itemset}\n",
    "for t in trans:\n",
    "    for item in t:\n",
    "        item_dct[item] += 1"
   ]
  },
  {
   "cell_type": "markdown",
   "metadata": {},
   "source": [
    "### Threshold"
   ]
  },
  {
   "cell_type": "code",
   "execution_count": 13,
   "metadata": {},
   "outputs": [
    {
     "data": {
      "text/plain": [
       "2959"
      ]
     },
     "execution_count": 13,
     "metadata": {},
     "output_type": "execute_result"
    }
   ],
   "source": [
    "th = int(0.05*len(data))\n",
    "th"
   ]
  },
  {
   "cell_type": "code",
   "execution_count": 14,
   "metadata": {},
   "outputs": [
    {
     "name": "stdout",
     "output_type": "stream",
     "text": [
      "The number of removed items: 2 \n",
      "Removed items \n",
      " {4714981010038, 4711271000014}\n"
     ]
    }
   ],
   "source": [
    "removed_items = {item for item, cnt in item_dct.items() if cnt>th}\n",
    "print(\"The number of removed items:\", len(removed_items), \\\n",
    "      \"\\nRemoved items \\n\", removed_items)"
   ]
  },
  {
   "cell_type": "markdown",
   "metadata": {},
   "source": [
    "### Remove"
   ]
  },
  {
   "cell_type": "markdown",
   "metadata": {},
   "source": [
    "#### Remove from itemset"
   ]
  },
  {
   "cell_type": "code",
   "execution_count": 15,
   "metadata": {},
   "outputs": [
    {
     "name": "stdout",
     "output_type": "stream",
     "text": [
      "Before remove: 21886\n",
      "After remove : 21884\n"
     ]
    }
   ],
   "source": [
    "print(\"Before remove:\", len(itemset))\n",
    "itemset -= removed_items\n",
    "print(\"After remove :\", len(itemset))"
   ]
  },
  {
   "cell_type": "markdown",
   "metadata": {},
   "source": [
    "#### Remove from transaction"
   ]
  },
  {
   "cell_type": "code",
   "execution_count": 16,
   "metadata": {},
   "outputs": [],
   "source": [
    "for i in data:\n",
    "    i[1] -= removed_items"
   ]
  },
  {
   "cell_type": "markdown",
   "metadata": {},
   "source": [
    "#### Remove fewer item transaction"
   ]
  },
  {
   "cell_type": "code",
   "execution_count": 24,
   "metadata": {},
   "outputs": [
    {
     "name": "stdout",
     "output_type": "stream",
     "text": [
      "# Data : 58237\n",
      "# Items: 21878\n"
     ]
    }
   ],
   "source": [
    "data = [(i[0], i[1]) for i in data if len(i[1]) > 2]\n",
    "print(\"# Data :\", len(data))\n",
    "\n",
    "itemset = set()\n",
    "for i in data:\n",
    "    itemset |= i[1]\n",
    "print(\"# Items:\", len(itemset))"
   ]
  },
  {
   "cell_type": "markdown",
   "metadata": {},
   "source": [
    "#### Convert list to tuple"
   ]
  },
  {
   "cell_type": "code",
   "execution_count": 26,
   "metadata": {},
   "outputs": [
    {
     "name": "stdout",
     "output_type": "stream",
     "text": [
      "58237\n"
     ]
    }
   ],
   "source": [
    "data = [(i[0], i[1]) for i in data]\n",
    "print(len(data))"
   ]
  },
  {
   "cell_type": "markdown",
   "metadata": {},
   "source": [
    "#### Make sure if items were removed"
   ]
  },
  {
   "cell_type": "code",
   "execution_count": 27,
   "metadata": {},
   "outputs": [
    {
     "name": "stdout",
     "output_type": "stream",
     "text": [
      "21878 21878\n"
     ]
    }
   ],
   "source": [
    "tmp = set()\n",
    "for i in data:\n",
    "    tmp |= i[1]\n",
    "\n",
    "print(len(tmp), len(itemset))\n",
    "assert len(tmp)==len(itemset)\n",
    "del tmp"
   ]
  },
  {
   "cell_type": "markdown",
   "metadata": {},
   "source": [
    "## Save dataset "
   ]
  },
  {
   "cell_type": "code",
   "execution_count": 28,
   "metadata": {},
   "outputs": [],
   "source": [
    "filehandler = open(root_dir+filename, \"wb\") \n",
    "pickle.dump(data, filehandler)"
   ]
  },
  {
   "cell_type": "markdown",
   "metadata": {},
   "source": [
    "## Load dataset from pickle"
   ]
  },
  {
   "cell_type": "code",
   "execution_count": 106,
   "metadata": {},
   "outputs": [],
   "source": [
    "import pickle\n",
    "filename = \"transaction.dat\"\n",
    "root_dir = \"./data/ta_feng/\"\n",
    "\n",
    "f = open(root_dir+filename,\"rb\")\n",
    "data = pickle.load(f)"
   ]
  },
  {
   "cell_type": "code",
   "execution_count": 107,
   "metadata": {},
   "outputs": [
    {
     "data": {
      "text/plain": [
       "58237"
      ]
     },
     "execution_count": 107,
     "metadata": {},
     "output_type": "execute_result"
    }
   ],
   "source": [
    "trans = []\n",
    "for i in data:\n",
    "    trans.append(list(i[1]))\n",
    "len(trans)"
   ]
  },
  {
   "cell_type": "markdown",
   "metadata": {},
   "source": [
    "## Make triple dataset for <br> BASKET-SENSITIVE FACTORIZATION MACHINE(BFM)"
   ]
  },
  {
   "cell_type": "markdown",
   "metadata": {},
   "source": [
    "### Split dataset for train, test and validation\n",
    "Ratio is \\\n",
    "train : test : valid = 6 : 2 : 2"
   ]
  },
  {
   "cell_type": "markdown",
   "metadata": {},
   "source": [
    "# <span style=\"color: red; \">TODO:</span> split based on user"
   ]
  },
  {
   "cell_type": "code",
   "execution_count": 92,
   "metadata": {},
   "outputs": [],
   "source": [
    "# dataset ratio\n",
    "r_train = 0.6\n",
    "r_test = 0.2\n",
    "r_valid = 0.2"
   ]
  },
  {
   "cell_type": "markdown",
   "metadata": {},
   "source": [
    "最初にuserをキーでtransactionのlistがvalueの辞書型を作ってsplitしたほうがいい?\\\n",
    "とりあえずやってみる"
   ]
  },
  {
   "cell_type": "code",
   "execution_count": 96,
   "metadata": {},
   "outputs": [],
   "source": [
    "udata = {usr : [] for usr in usr_dct.keys()}\n",
    "\n",
    "for d in data:\n",
    "    udata[d[0]].append(d[1])"
   ]
  },
  {
   "cell_type": "code",
   "execution_count": 104,
   "metadata": {},
   "outputs": [
    {
     "name": "stdout",
     "output_type": "stream",
     "text": [
      "1319\n"
     ]
    }
   ],
   "source": [
    "cnt = 0\n",
    "for u, t in udata.items():\n",
    "    if len(t) < 3: \n",
    "        cnt+=1\n",
    "print(cnt)"
   ]
  },
  {
   "cell_type": "code",
   "execution_count": 31,
   "metadata": {},
   "outputs": [],
   "source": [
    "from sklearn.model_selection import train_test_split\n",
    "from sklearn.utils import shuffle\n",
    "seed=1234\n",
    "\n",
    "# Shuffle data\n",
    "data = shuffle(data, random_state=seed)\n",
    "\n",
    "# Split train, test and validation\n",
    "train, test = train_test_split(data, test_size=0.4, random_state=seed)\n",
    "test, valid = train_test_split(test, test_size=0.5, random_state=seed)"
   ]
  },
  {
   "cell_type": "code",
   "execution_count": 32,
   "metadata": {},
   "outputs": [
    {
     "data": {
      "text/plain": [
       "(34942, 11647, 11648)"
      ]
     },
     "execution_count": 32,
     "metadata": {},
     "output_type": "execute_result"
    }
   ],
   "source": [
    "len(train), len(test), len(valid)"
   ]
  },
  {
   "cell_type": "markdown",
   "metadata": {},
   "source": [
    "### Calculate pmi\n",
    "We only need pmi for train dataset, so we calculated train dataset pmi with original dataset(valiable is `data`)."
   ]
  },
  {
   "cell_type": "code",
   "execution_count": null,
   "metadata": {},
   "outputs": [],
   "source": []
  },
  {
   "cell_type": "markdown",
   "metadata": {},
   "source": [
    "### Make negative sample\n",
    "Negative sampleはPositive sampleをベースに作られている．\\\n",
    "1つのPositive sampleにつき2つ作る．つまりNegative sampleはPositive sampleの数の2倍になる．\\\n",
    "Negative sampleはベースとなっているアイテム数(|B|+v)と同じになっている．\\\n",
    "Negative sampleのアイテムはそのUserが購入していないアイテムで構成される．"
   ]
  },
  {
   "cell_type": "markdown",
   "metadata": {},
   "source": [
    "#### Itemset per user(customer)\n",
    "`usr_dct`はkeyがuserでvalueがそのuserが購入したitemの集合が入っている． \\\n",
    "だから，`itemset - usr_dct[usr]`でusrが購入していないアイテム集合を取得できる．"
   ]
  },
  {
   "cell_type": "code",
   "execution_count": 33,
   "metadata": {},
   "outputs": [
    {
     "name": "stdout",
     "output_type": "stream",
     "text": [
      "9956\n"
     ]
    }
   ],
   "source": [
    "import copy\n",
    "\n",
    "usr_dct = {}\n",
    "tmp = 0\n",
    "for i in data:\n",
    "    if not i[0] in usr_dct.keys():\n",
    "         # idk why but if I don't use deepcopy, set in data is changed\n",
    "        usr_dct[i[0]] = copy.deepcopy(i[1])\n",
    "    else:\n",
    "        usr_dct[i[0]] |= i[1]\n",
    "\n",
    "n_usr = len(usr_dct.keys())\n",
    "print(n_usr)"
   ]
  },
  {
   "cell_type": "markdown",
   "metadata": {},
   "source": [
    "#### Make negative sample"
   ]
  },
  {
   "cell_type": "code",
   "execution_count": 72,
   "metadata": {},
   "outputs": [
    {
     "name": "stderr",
     "output_type": "stream",
     "text": [
      "100%|██████████| 34942/34942 [00:25<00:00, 1355.38it/s]\n"
     ]
    }
   ],
   "source": [
    "import tqdm\n",
    "\n",
    "neg_train = []\n",
    "for i in tqdm.tqdm(train):\n",
    "    # target user\n",
    "    usr = i[0]\n",
    "    \n",
    "    # item length\n",
    "    l_item = len(i[1])\n",
    "    \n",
    "    # negative itemset\n",
    "    neg_itemset = itemset - usr_dct[usr]\n",
    "    neg_data = random.sample(neg_itemset, k=l_item*2)\n",
    "    neg_train.append((usr, neg_data[:l_item]))\n",
    "    neg_train.append((usr, neg_data[l_item:]))"
   ]
  },
  {
   "cell_type": "code",
   "execution_count": 84,
   "metadata": {},
   "outputs": [],
   "source": [
    "assert 2*len(train)==len(neg_train), \\\n",
    "       f\"\"\"The number of negative sample should be 2*train.\n",
    "                But got train sample:{len(train)}, negative sample:{len(neg_train)}\"\"\""
   ]
  },
  {
   "cell_type": "markdown",
   "metadata": {},
   "source": [
    "##### Save negative sample dataset"
   ]
  },
  {
   "cell_type": "code",
   "execution_count": 86,
   "metadata": {},
   "outputs": [],
   "source": [
    "filehandler = open(root_dir+\"negative_sample.dat\", \"wb\") \n",
    "pickle.dump(neg_train, filehandler)"
   ]
  },
  {
   "cell_type": "markdown",
   "metadata": {},
   "source": [
    "---\n",
    "---\n",
    "---\n",
    "---"
   ]
  },
  {
   "cell_type": "markdown",
   "metadata": {},
   "source": [
    "#### Adjacency matrix"
   ]
  },
  {
   "cell_type": "code",
   "execution_count": 27,
   "metadata": {},
   "outputs": [],
   "source": [
    "import tqdm\n",
    "\n",
    "def make_adj(num_items, itemset, transactions):\n",
    "    adjMatrix = np.zeros((num_items, num_items), dtype=np.float32)\n",
    "    for t in tqdm.tqdm(transactions):\n",
    "        for i, item1 in enumerate(t):\n",
    "            # item1がtrain_itemsetに入ってなかったら飛ばす\n",
    "            if not item1 in itemset: break\n",
    "                \n",
    "            sub_t = t[i+1:] # こっちはただの隣接行列\n",
    "            idx1 = itemset.index(item1)\n",
    "            for item2 in sub_t:\n",
    "                # item2がtrain_itemsetに入ってなかったら飛ばす\n",
    "                if not item2 in itemset: break\n",
    "                idx2 = itemset.index(item2)\n",
    "                adjMatrix[idx1][idx2] += 1\n",
    "\n",
    "    return adjMatrix.astype(np.int32)"
   ]
  },
  {
   "cell_type": "markdown",
   "metadata": {},
   "source": [
    "##### Train itemset"
   ]
  },
  {
   "cell_type": "code",
   "execution_count": 28,
   "metadata": {},
   "outputs": [
    {
     "name": "stdout",
     "output_type": "stream",
     "text": [
      "19865\n"
     ]
    }
   ],
   "source": [
    "train_itemset = set()\n",
    "for i in train:\n",
    "    train_itemset |= i[1]\n",
    "\n",
    "train_itemset = list(train_itemset)\n",
    "print(len(train_itemset))\n",
    "n_train_item = len(train_itemset)"
   ]
  },
  {
   "cell_type": "markdown",
   "metadata": {},
   "source": [
    "##### Whole transaction is `trans`"
   ]
  },
  {
   "cell_type": "code",
   "execution_count": 29,
   "metadata": {},
   "outputs": [
    {
     "name": "stderr",
     "output_type": "stream",
     "text": [
      "100%|██████████| 59191/59191 [19:38<00:00, 50.24it/s]  \n"
     ]
    }
   ],
   "source": [
    "adj = make_adj(n_train_item, train_itemset, trans)"
   ]
  },
  {
   "cell_type": "markdown",
   "metadata": {},
   "source": [
    "##### Save adjacency matrix as numpy object"
   ]
  },
  {
   "cell_type": "code",
   "execution_count": 31,
   "metadata": {},
   "outputs": [
    {
     "name": "stdout",
     "output_type": "stream",
     "text": [
      "[[0 0 0 ... 0 0 0]\n",
      " [0 0 0 ... 0 0 0]\n",
      " [0 0 0 ... 0 0 0]\n",
      " ...\n",
      " [0 0 0 ... 0 0 0]\n",
      " [0 0 0 ... 0 0 0]\n",
      " [0 0 0 ... 0 0 0]]\n"
     ]
    }
   ],
   "source": [
    "print(adj)\n",
    "np.save(f\"{root_dir}adj\", adj)"
   ]
  },
  {
   "cell_type": "code",
   "execution_count": 116,
   "metadata": {
    "collapsed": true,
    "jupyter": {
     "outputs_hidden": true
    }
   },
   "outputs": [
    {
     "data": {
      "text/plain": [
       "(293044,\n",
       " {20570125,\n",
       "  4710043100082,\n",
       "  4710731070192,\n",
       "  4712172200091,\n",
       "  4714008271008,\n",
       "  4719864067116,\n",
       "  5998710132430,\n",
       "  5998710132461})"
      ]
     },
     "execution_count": 116,
     "metadata": {},
     "output_type": "execute_result"
    }
   ],
   "source": [
    "train[0]"
   ]
  },
  {
   "cell_type": "code",
   "execution_count": 105,
   "metadata": {},
   "outputs": [
    {
     "name": "stdout",
     "output_type": "stream",
     "text": [
      "CPU times: user 3 µs, sys: 0 ns, total: 3 µs\n",
      "Wall time: 6.44 µs\n"
     ]
    }
   ],
   "source": [
    "# 内包表記のほうが速いっぽい\n",
    "# ref: https://utgwkk.hateblo.jp/entry/2017/03/09/154314\n",
    "\n",
    "# custormer id == 1835021\n",
    "%time\n",
    "custormer_id = 1835021\n",
    "# target_custormer = lambda x: x[0]==custormer_id\n",
    "# u_data = map(lambda x: x[1] if x[0]==custormer_id else None, trans_from_pickle)\n",
    "# u_data = list(filter(target_custormer, trans_from_pickle))"
   ]
  },
  {
   "cell_type": "code",
   "execution_count": 106,
   "metadata": {},
   "outputs": [
    {
     "name": "stdout",
     "output_type": "stream",
     "text": [
      "CPU times: user 2 µs, sys: 0 ns, total: 2 µs\n",
      "Wall time: 4.05 µs\n"
     ]
    }
   ],
   "source": [
    "%time\n",
    "target_tran = [i[1] for i in data if i[0]==custormer_id]"
   ]
  },
  {
   "cell_type": "code",
   "execution_count": 107,
   "metadata": {
    "collapsed": true,
    "jupyter": {
     "outputs_hidden": true
    }
   },
   "outputs": [
    {
     "data": {
      "text/plain": [
       "[{4710094004711,\n",
       "  4710105002019,\n",
       "  4710105031613,\n",
       "  4710114361114,\n",
       "  4710421090059,\n",
       "  4710543282318,\n",
       "  4711390436916,\n",
       "  4713045519333,\n",
       "  4715140032311,\n",
       "  4716447022203},\n",
       " {3228021990293,\n",
       "  4710088434593,\n",
       "  4710105031613,\n",
       "  4710114362029,\n",
       "  4710121023302,\n",
       "  4714220680091,\n",
       "  4714220680107},\n",
       " {20554705,\n",
       "  29000070295,\n",
       "  4710105031613,\n",
       "  4710205005750,\n",
       "  4710731060124,\n",
       "  4710740600090,\n",
       "  4710740600106,\n",
       "  8851954102126},\n",
       " {20412074, 4710063312168, 4710088433268},\n",
       " {4710015102946,\n",
       "  4710431324236,\n",
       "  4710431330282,\n",
       "  4710431397056,\n",
       "  4713691062900,\n",
       "  4714005052013,\n",
       "  4715190002999,\n",
       "  4715833010893,\n",
       "  4715833014310}]"
      ]
     },
     "execution_count": 107,
     "metadata": {},
     "output_type": "execute_result"
    }
   ],
   "source": [
    "target_tran"
   ]
  },
  {
   "cell_type": "code",
   "execution_count": null,
   "metadata": {},
   "outputs": [],
   "source": []
  }
 ],
 "metadata": {
  "kernelspec": {
   "display_name": "Python 3",
   "language": "python",
   "name": "python3"
  },
  "language_info": {
   "codemirror_mode": {
    "name": "ipython",
    "version": 3
   },
   "file_extension": ".py",
   "mimetype": "text/x-python",
   "name": "python",
   "nbconvert_exporter": "python",
   "pygments_lexer": "ipython3",
   "version": "3.7.4"
  }
 },
 "nbformat": 4,
 "nbformat_minor": 4
}
