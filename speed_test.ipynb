{
 "cells": [
  {
   "cell_type": "markdown",
   "metadata": {},
   "source": [
    "# Pytorch"
   ]
  },
  {
   "cell_type": "code",
   "execution_count": 1,
   "metadata": {},
   "outputs": [],
   "source": [
    "import torch"
   ]
  },
  {
   "cell_type": "code",
   "execution_count": 18,
   "metadata": {},
   "outputs": [
    {
     "name": "stdout",
     "output_type": "stream",
     "text": [
      "tensor([[0., 0., 0., 0., 0.]])\n",
      "tensor([[1., 2., 3., 4., 5.]])\n",
      "tensor([[ 10.,  20.,  30.,  40.,  50.],\n",
      "        [ 60.,  70.,  80.,  90., 100.],\n",
      "        [110., 120., 130., 140., 150.]])\n"
     ]
    },
    {
     "name": "stderr",
     "output_type": "stream",
     "text": [
      "/usr/local/lib/python3.7/site-packages/ipykernel_launcher.py:2: UserWarning: torch.range is deprecated in favor of torch.arange and will be removed in 0.5. Note that arange generates values in [start; end), not [start; end].\n",
      "  \n",
      "/usr/local/lib/python3.7/site-packages/ipykernel_launcher.py:3: UserWarning: torch.range is deprecated in favor of torch.arange and will be removed in 0.5. Note that arange generates values in [start; end), not [start; end].\n",
      "  This is separate from the ipykernel package so we can avoid doing imports until\n"
     ]
    }
   ],
   "source": [
    "tensor0 = torch.zeros(1, 5)\n",
    "tensor1 = torch.range(1, 5).view(1, -1)\n",
    "tensor2 = (torch.range(1, 15)*10).view(3,-1)\n",
    "print(tensor0)\n",
    "print(tensor1)\n",
    "print(tensor2)"
   ]
  },
  {
   "cell_type": "code",
   "execution_count": 34,
   "metadata": {},
   "outputs": [
    {
     "name": "stdout",
     "output_type": "stream",
     "text": [
      "tensor([[1., 2., 3., 4., 5.]])\n",
      "tensor([[ 10.,  20.,  30.,  40.,  50.],\n",
      "        [ 60.,  70.,  80.,  90., 100.],\n",
      "        [110., 120., 130., 140., 150.]])\n"
     ]
    }
   ],
   "source": [
    "print(f\"{tensor1}\\n\" \\\n",
    "      f\"{tensor2}\")"
   ]
  },
  {
   "cell_type": "code",
   "execution_count": 43,
   "metadata": {},
   "outputs": [
    {
     "name": "stdout",
     "output_type": "stream",
     "text": [
      "tensor([[ 550., 1300., 2050.]])\n",
      "tensor(3900.)\n"
     ]
    }
   ],
   "source": [
    "# result = torch.matmul(tensor2, tensor1.t())\n",
    "result = torch.mm(tensor1, tensor2.t())\n",
    "print(result)\n",
    "print(result.sum())"
   ]
  },
  {
   "cell_type": "code",
   "execution_count": 36,
   "metadata": {},
   "outputs": [
    {
     "name": "stdout",
     "output_type": "stream",
     "text": [
      "tensor(550.)\n"
     ]
    }
   ],
   "source": [
    "tmp = torch.dot(tensor1.view(-1), tensor2[0].view(-1))\n",
    "print(tmp)"
   ]
  },
  {
   "cell_type": "code",
   "execution_count": 65,
   "metadata": {},
   "outputs": [
    {
     "name": "stdout",
     "output_type": "stream",
     "text": [
      "tensor([[ 1.,  2.,  3.,  4.,  5.],\n",
      "        [ 6.,  7.,  8.,  9., 10.],\n",
      "        [11., 12., 13., 14., 15.],\n",
      "        [16., 17., 18., 19., 20.],\n",
      "        [21., 22., 23., 24., 25.],\n",
      "        [26., 27., 28., 29., 30.]])\n"
     ]
    },
    {
     "name": "stderr",
     "output_type": "stream",
     "text": [
      "/usr/local/lib/python3.7/site-packages/ipykernel_launcher.py:1: UserWarning: torch.range is deprecated in favor of torch.arange and will be removed in 0.5. Note that arange generates values in [start; end), not [start; end].\n",
      "  \"\"\"Entry point for launching an IPython kernel.\n"
     ]
    }
   ],
   "source": [
    "tensor3 = (torch.range(1, 30)).view(-1, 5)\n",
    "print(tensor3)"
   ]
  },
  {
   "cell_type": "code",
   "execution_count": 108,
   "metadata": {},
   "outputs": [
    {
     "name": "stdout",
     "output_type": "stream",
     "text": [
      "CPU times: user 306 µs, sys: 0 ns, total: 306 µs\n",
      "Wall time: 318 µs\n"
     ]
    }
   ],
   "source": [
    "%%time\n",
    "#%%timeit -r 100\n",
    "\n",
    "result = None\n",
    "n = tensor3.shape[0]\n",
    "# print(f\"Dim : {n}\")\n",
    "\n",
    "for i in range(n):\n",
    "    if result is None:\n",
    "        result = torch.mm(tensor3[i].view(1, -1), tensor3[i+1:n].t()).sum()\n",
    "        # print(result)\n",
    "    else:\n",
    "        result += torch.mm(tensor3[i].view(1, -1), tensor3[i+1:n].t()).sum()\n",
    "        # print(result)\n",
    "        \n",
    "# print(result)"
   ]
  },
  {
   "cell_type": "code",
   "execution_count": 104,
   "metadata": {},
   "outputs": [
    {
     "name": "stdout",
     "output_type": "stream",
     "text": [
      "88.6 µs ± 1.81 µs per loop (mean ± std. dev. of 100 runs, 10000 loops each)\n"
     ]
    }
   ],
   "source": [
    "%%time \n",
    "#%%timeit -r 100\n",
    "\n",
    "result = 0\n",
    "n = tensor3.shape[0]\n",
    "# print(f\"Dim : {n}\")\n",
    "\n",
    "for i in range(n):\n",
    "    result += torch.mm(tensor3[i].view(1, -1), tensor3[i+1:n].t()).sum()\n",
    "    # print(result)\n",
    "        \n",
    "# print(result)"
   ]
  },
  {
   "cell_type": "code",
   "execution_count": 87,
   "metadata": {},
   "outputs": [
    {
     "name": "stdout",
     "output_type": "stream",
     "text": [
      "Dim : 6\n",
      "tensor(130.)\n",
      "tensor(335.)\n",
      "tensor(615.)\n",
      "tensor(970.)\n",
      "tensor(1400.)\n",
      "tensor(1930.)\n",
      "tensor(2660.)\n",
      "tensor(3590.)\n",
      "tensor(4720.)\n",
      "tensor(5900.)\n",
      "tensor(7405.)\n",
      "tensor(9235.)\n",
      "tensor(11315.)\n",
      "tensor(13845.)\n",
      "tensor(17075.)\n",
      "tensor(17075.)\n",
      "CPU times: user 8.46 ms, sys: 88 µs, total: 8.55 ms\n",
      "Wall time: 7.23 ms\n"
     ]
    }
   ],
   "source": [
    "%%time\n",
    "\n",
    "result = None\n",
    "n = tensor3.shape[0]\n",
    "print(f\"Dim : {n}\")\n",
    "\n",
    "for i in range(n):\n",
    "    for j in range(i+1, n):\n",
    "        if result is None:\n",
    "            result = torch.dot(tensor3[i], tensor3[j])\n",
    "            print(result)\n",
    "        else:\n",
    "            result += torch.dot(tensor3[i], tensor3[j])\n",
    "            print(result)\n",
    "        \n",
    "print(result)"
   ]
  },
  {
   "cell_type": "markdown",
   "metadata": {},
   "source": [
    "# Multi-process"
   ]
  },
  {
   "cell_type": "code",
   "execution_count": 2,
   "metadata": {},
   "outputs": [
    {
     "name": "stdout",
     "output_type": "stream",
     "text": [
      "49\n",
      "16\n",
      "0\n",
      "36\n",
      "1\n",
      "9\n",
      "25\n",
      "4\n"
     ]
    }
   ],
   "source": [
    "from concurrent.futures import ProcessPoolExecutor, as_completed\n",
    "\n",
    "def busy_cpu(index):\n",
    "    return index**2\n",
    "\n",
    "futures = []\n",
    "worker_num = 4\n",
    "task_num = 8\n",
    "\n",
    "with ProcessPoolExecutor(worker_num) as executer:\n",
    "    for i in range(task_num):\n",
    "        futures.append(executer.submit(busy_cpu, i))\n",
    "        \n",
    "for x in as_completed(futures):\n",
    "    print(x.result())"
   ]
  },
  {
   "cell_type": "code",
   "execution_count": 8,
   "metadata": {},
   "outputs": [
    {
     "name": "stdout",
     "output_type": "stream",
     "text": [
      "0 9999999800000001\n",
      "CPU times: user 17.1 s, sys: 4.64 s, total: 21.8 s\n",
      "Wall time: 21.7 s\n"
     ]
    }
   ],
   "source": [
    "%%time\n",
    "\n",
    "import multiprocessing\n",
    "\n",
    "def busy_cpu(index):\n",
    "    return index**2\n",
    "\n",
    "futures = []\n",
    "task_num = int(1e+8)\n",
    "\n",
    "for i in range(task_num):\n",
    "    futures.append(i)\n",
    "        \n",
    "process = max(1, multiprocessing.cpu_count()-1)\n",
    "p = multiprocessing.Pool(process)\n",
    "result = p.map(busy_cpu, futures)\n",
    "\n",
    "print(result[0], result[-1])"
   ]
  },
  {
   "cell_type": "code",
   "execution_count": 7,
   "metadata": {},
   "outputs": [
    {
     "name": "stdout",
     "output_type": "stream",
     "text": [
      "0 9999999800000001\n",
      "CPU times: user 31.2 s, sys: 943 ms, total: 32.1 s\n",
      "Wall time: 32 s\n"
     ]
    }
   ],
   "source": [
    "%%time\n",
    "\n",
    "def busy_cpu(index):\n",
    "    return index**2\n",
    "\n",
    "futures = []\n",
    "worker_num = 4\n",
    "task_num = int(1e+8)\n",
    "\n",
    "for i in range(task_num):\n",
    "    futures.append(busy_cpu(i))\n",
    "        \n",
    "print(futures[0], futures[-1])"
   ]
  },
  {
   "cell_type": "code",
   "execution_count": null,
   "metadata": {},
   "outputs": [],
   "source": []
  }
 ],
 "metadata": {
  "kernelspec": {
   "display_name": "Python 3",
   "language": "python",
   "name": "python3"
  },
  "language_info": {
   "codemirror_mode": {
    "name": "ipython",
    "version": 3
   },
   "file_extension": ".py",
   "mimetype": "text/x-python",
   "name": "python",
   "nbconvert_exporter": "python",
   "pygments_lexer": "ipython3",
   "version": "3.7.4"
  }
 },
 "nbformat": 4,
 "nbformat_minor": 4
}
